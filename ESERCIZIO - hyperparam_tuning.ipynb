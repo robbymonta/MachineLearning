{
 "cells": [
  {
   "cell_type": "code",
   "execution_count": null,
   "id": "26f90758-6ff9-4b63-b825-83b1bc07795b",
   "metadata": {},
   "outputs": [],
   "source": [
    "### importare pandas, seaborn e matplotlib\n"
   ]
  },
  {
   "cell_type": "markdown",
   "id": "8cafe072-fe40-42b5-9b4f-3de22d539a5a",
   "metadata": {},
   "source": [
    "### IMPORT DEI DATI"
   ]
  },
  {
   "cell_type": "code",
   "execution_count": 1,
   "id": "2711d21d-6ea0-439a-be8c-8099fd4bc675",
   "metadata": {},
   "outputs": [],
   "source": [
    "### importare i dati con pd.read_csv()\n",
    " "
   ]
  },
  {
   "cell_type": "markdown",
   "id": "19aef1a6-ae1e-4e21-b04b-05d0e67b86a8",
   "metadata": {},
   "source": [
    "### TRAIN/TEST SPLIT"
   ]
  },
  {
   "cell_type": "code",
   "execution_count": null,
   "id": "88b73a6d-5efe-4c1b-9eda-515e6386b154",
   "metadata": {},
   "outputs": [],
   "source": [
    "# importare train_test_split da sklearn.model_selection\n"
   ]
  },
  {
   "cell_type": "code",
   "execution_count": null,
   "id": "2afe3683-4efe-4887-975a-ba17f5e1a9d5",
   "metadata": {},
   "outputs": [],
   "source": [
    "# Dividere il dataset in train/test set, utilizzando una test_size=0.25, shuffle=True, random_state=22\n"
   ]
  },
  {
   "cell_type": "markdown",
   "id": "430f0641-430f-4764-bca1-e3622ed8a935",
   "metadata": {},
   "source": [
    "### FEATURES & TARGET"
   ]
  },
  {
   "cell_type": "code",
   "execution_count": null,
   "id": "b4f8e941-72f8-43bd-bd83-965eb808d490",
   "metadata": {},
   "outputs": [],
   "source": [
    "### creare X_train e X_test selezionando solo le features 'km_driven','mileage','max_power','seats'\n",
    " "
   ]
  },
  {
   "cell_type": "code",
   "execution_count": null,
   "id": "9f778631-43ee-40dd-9cb0-5c5528858ada",
   "metadata": {},
   "outputs": [],
   "source": [
    "### creare y_train e y_test, il nome del target è 'selling_price'\n",
    " "
   ]
  },
  {
   "cell_type": "markdown",
   "id": "fa3b8229-10ee-470d-bce2-05fcd002a4cf",
   "metadata": {},
   "source": [
    "### FITTING con CROSS-VALIDATION e HYPERPARAMETER TUNING"
   ]
  },
  {
   "cell_type": "markdown",
   "id": "f501888d-ee01-4901-b64f-fdd8ecd20e48",
   "metadata": {},
   "source": [
    "#### GridSearchCV()"
   ]
  },
  {
   "cell_type": "code",
   "execution_count": null,
   "id": "d3d2b0c2-dce9-4a80-b88a-8f0c1d561f21",
   "metadata": {},
   "outputs": [],
   "source": [
    "### importare GridSearchCV() da sklearn.models_selection\n"
   ]
  },
  {
   "cell_type": "code",
   "execution_count": null,
   "id": "6244dd6d-e983-4ac7-a7fb-efd0efd03bb6",
   "metadata": {},
   "outputs": [],
   "source": [
    "### Allenare un modello a piacere su train_df impostando un hyperparameter tuning con GridSearchCV\n"
   ]
  },
  {
   "cell_type": "markdown",
   "id": "c8c7db7c-882d-4b1c-86ca-6e06ee3b99e1",
   "metadata": {},
   "source": [
    "#### RandomizedSearchCV()"
   ]
  },
  {
   "cell_type": "code",
   "execution_count": null,
   "id": "4f0cb55a-0230-4b61-9382-411d63fda406",
   "metadata": {},
   "outputs": [],
   "source": [
    "### importare RandomizedSearchCV() da sklearn.models_selection\n"
   ]
  },
  {
   "cell_type": "code",
   "execution_count": null,
   "id": "6afefae5-72e1-4860-b7d6-7ecc80df1ffc",
   "metadata": {},
   "outputs": [],
   "source": [
    "### Allenare un modello a piacere su train_df impostando un hyperparameter tuning con GridSearchCV\n"
   ]
  },
  {
   "cell_type": "markdown",
   "id": "3a4858f2-a651-4f9b-a8a8-56a2aa825cfa",
   "metadata": {},
   "source": [
    "### PREDICTION"
   ]
  },
  {
   "cell_type": "code",
   "execution_count": null,
   "id": "70294c88-cc2a-44a5-9f2c-147eece6f433",
   "metadata": {},
   "outputs": [],
   "source": [
    "### fare previsioni sul test_df con il modello \n"
   ]
  },
  {
   "cell_type": "markdown",
   "id": "e52fb68e-a840-4d85-9825-8dd1aa111938",
   "metadata": {},
   "source": [
    "### EVALUATION"
   ]
  },
  {
   "cell_type": "code",
   "execution_count": null,
   "id": "0730ebee-9609-4756-8bd0-0755943d0777",
   "metadata": {},
   "outputs": [],
   "source": [
    "### valutare la bontà delle previsioni sul test set\n"
   ]
  },
  {
   "cell_type": "markdown",
   "id": "1b8cc417-295f-4722-bc53-368c5bd4167a",
   "metadata": {},
   "source": [
    "### SALVARE IL MODELLO"
   ]
  },
  {
   "cell_type": "code",
   "execution_count": null,
   "id": "898ffe55-80d6-4996-b518-1ecc0f1be050",
   "metadata": {},
   "outputs": [],
   "source": [
    "### importare joblib\n"
   ]
  },
  {
   "cell_type": "code",
   "execution_count": 1,
   "id": "9714a070-8f00-4bde-8e62-6db0929aec7d",
   "metadata": {},
   "outputs": [],
   "source": [
    "### salvare il modello in formato pickle\n"
   ]
  }
 ],
 "metadata": {
  "kernelspec": {
   "display_name": "Python 3 (ipykernel)",
   "language": "python",
   "name": "python3"
  },
  "language_info": {
   "codemirror_mode": {
    "name": "ipython",
    "version": 3
   },
   "file_extension": ".py",
   "mimetype": "text/x-python",
   "name": "python",
   "nbconvert_exporter": "python",
   "pygments_lexer": "ipython3",
   "version": "3.9.7"
  }
 },
 "nbformat": 4,
 "nbformat_minor": 5
}
