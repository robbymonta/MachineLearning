{
 "cells": [
  {
   "cell_type": "code",
   "execution_count": null,
   "id": "26f90758-6ff9-4b63-b825-83b1bc07795b",
   "metadata": {},
   "outputs": [],
   "source": [
    "### importare pandas, seaborn e matplotlib\n"
   ]
  },
  {
   "cell_type": "markdown",
   "id": "8cafe072-fe40-42b5-9b4f-3de22d539a5a",
   "metadata": {},
   "source": [
    "### IMPORT DEI DATI"
   ]
  },
  {
   "cell_type": "markdown",
   "id": "a3968050-906e-49c7-9016-99f9c22e4001",
   "metadata": {
    "tags": []
   },
   "source": [
    "I dati sono nella cartella in formato .csv, sotto il nome 'cars.csv'. Caricare il csv in DataFrame Pandas. NB. il dataset originale è disponibile qui: https://www.kaggle.com/nehalbirla/vehicle-dataset-from-cardekho?select=Car+details+v3.csv"
   ]
  },
  {
   "cell_type": "code",
   "execution_count": null,
   "id": "2711d21d-6ea0-439a-be8c-8099fd4bc675",
   "metadata": {},
   "outputs": [],
   "source": [
    "### importare i dati con pd.read_csv()\n",
    " "
   ]
  },
  {
   "cell_type": "code",
   "execution_count": null,
   "id": "c648a28e-2bcb-4a7c-b4c3-48e8c0fdc352",
   "metadata": {
    "tags": []
   },
   "outputs": [],
   "source": [
    "### printare le informazioni sul DataFrame con .info()\n",
    " "
   ]
  },
  {
   "cell_type": "markdown",
   "id": "19aef1a6-ae1e-4e21-b04b-05d0e67b86a8",
   "metadata": {
    "tags": []
   },
   "source": [
    "### TRAIN/TEST SPLIT"
   ]
  },
  {
   "cell_type": "code",
   "execution_count": null,
   "id": "88b73a6d-5efe-4c1b-9eda-515e6386b154",
   "metadata": {},
   "outputs": [],
   "source": [
    "# importare train_test_split da sklearn.model_selection\n"
   ]
  },
  {
   "cell_type": "code",
   "execution_count": null,
   "id": "2afe3683-4efe-4887-975a-ba17f5e1a9d5",
   "metadata": {},
   "outputs": [],
   "source": [
    "# Dividere il dataset in train/test set, utilizzando una test_size=0.25, shuffle=True, random_state=22\n",
    " "
   ]
  },
  {
   "cell_type": "code",
   "execution_count": null,
   "id": "118e8629-f49b-4d33-b605-fc357b1f904f",
   "metadata": {},
   "outputs": [],
   "source": [
    "# printare la shape di train set e test set, usando l'attributo .shape dei pandas DataFrame\n",
    " "
   ]
  },
  {
   "cell_type": "markdown",
   "id": "430f0641-430f-4764-bca1-e3622ed8a935",
   "metadata": {},
   "source": [
    "### FEATURES & TARGET"
   ]
  },
  {
   "cell_type": "code",
   "execution_count": null,
   "id": "b4f8e941-72f8-43bd-bd83-965eb808d490",
   "metadata": {},
   "outputs": [],
   "source": [
    "### creare X_train e X_test selezionando solo le features 'km_driven','mileage','max_power','seats'\n",
    " "
   ]
  },
  {
   "cell_type": "code",
   "execution_count": null,
   "id": "9f778631-43ee-40dd-9cb0-5c5528858ada",
   "metadata": {},
   "outputs": [],
   "source": [
    "### creare y_train e y_test, il nome del target è 'selling_price'\n",
    " "
   ]
  },
  {
   "cell_type": "markdown",
   "id": "fa3b8229-10ee-470d-bce2-05fcd002a4cf",
   "metadata": {},
   "source": [
    "### FITTING"
   ]
  },
  {
   "cell_type": "code",
   "execution_count": null,
   "id": "6244dd6d-e983-4ac7-a7fb-efd0efd03bb6",
   "metadata": {},
   "outputs": [],
   "source": [
    "### importare LinearRegression da sklearn.linear_model\n",
    " "
   ]
  },
  {
   "cell_type": "code",
   "execution_count": null,
   "id": "e73db46c-911a-4d96-8483-1261e7c6e6a4",
   "metadata": {},
   "outputs": [],
   "source": [
    "### eseguire il fitting del modello sul train_df, usando la funzione .fit()\n",
    "\n",
    "model = LinearRegression()\n",
    "\n",
    "### ......\n"
   ]
  },
  {
   "cell_type": "markdown",
   "id": "3a4858f2-a651-4f9b-a8a8-56a2aa825cfa",
   "metadata": {},
   "source": [
    "### PREDICTION"
   ]
  },
  {
   "cell_type": "code",
   "execution_count": null,
   "id": "70294c88-cc2a-44a5-9f2c-147eece6f433",
   "metadata": {},
   "outputs": [],
   "source": [
    "### fare previsioni sia sul train_set che sul test_set usando la funzione .predict()\n"
   ]
  },
  {
   "cell_type": "markdown",
   "id": "e52fb68e-a840-4d85-9825-8dd1aa111938",
   "metadata": {},
   "source": [
    "### EVALUATION"
   ]
  },
  {
   "cell_type": "code",
   "execution_count": null,
   "id": "0730ebee-9609-4756-8bd0-0755943d0777",
   "metadata": {},
   "outputs": [],
   "source": [
    "### importare mean_absolute_error e r2_score da sklearn.metrics\n"
   ]
  },
  {
   "cell_type": "code",
   "execution_count": null,
   "id": "cb56737e-72f2-4f03-bc8c-f8b90cdc5974",
   "metadata": {},
   "outputs": [],
   "source": [
    "### calcolare MAE e R2 del modello sia sul train_set che sul test_set, e poi printarli\n"
   ]
  },
  {
   "cell_type": "code",
   "execution_count": null,
   "id": "48fca09f-012b-4775-b965-b3e701ae1467",
   "metadata": {},
   "outputs": [],
   "source": [
    "### fare lo scatter plot delle previsioni contro la retta di perfect fit, sia per train_set che per test_set\n",
    "\n",
    "#########################\n",
    "### TRAIN SET\n",
    "\n",
    "### scatterplot\n",
    "...\n",
    "\n",
    "###### retta di perfect fit\n",
    "plt.plot(range(0,y_train.max()), range(0,y_train.max()), label='perfect fit')\n",
    "plt.title('TRAIN SET')\n",
    "plt.legend()\n",
    "plt.show()\n",
    "\n",
    "\n",
    "#########################\n",
    "### TEST SET\n",
    "### .......\n",
    "\n"
   ]
  },
  {
   "cell_type": "code",
   "execution_count": null,
   "id": "bad0bfc9-33b4-405e-95a9-292da2130705",
   "metadata": {},
   "outputs": [],
   "source": []
  }
 ],
 "metadata": {
  "kernelspec": {
   "display_name": "Python 3 (ipykernel)",
   "language": "python",
   "name": "python3"
  },
  "language_info": {
   "codemirror_mode": {
    "name": "ipython",
    "version": 3
   },
   "file_extension": ".py",
   "mimetype": "text/x-python",
   "name": "python",
   "nbconvert_exporter": "python",
   "pygments_lexer": "ipython3",
   "version": "3.9.7"
  }
 },
 "nbformat": 4,
 "nbformat_minor": 5
}
