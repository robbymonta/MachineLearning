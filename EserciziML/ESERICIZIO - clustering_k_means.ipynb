{
  "cells": [
    {
      "cell_type": "code",
      "execution_count": null,
      "metadata": {
        "id": "wCppoxBTdJDT"
      },
      "outputs": [],
      "source": [
        "### Importare librerie necessarie\n"
      ]
    },
    {
      "cell_type": "code",
      "source": [
        "### Importare i dati da wine-clustering.csv e dare una breve occhiata alle caratteristiche del dataset\n"
      ],
      "metadata": {
        "id": "GKU-gYd5yY_I"
      },
      "execution_count": null,
      "outputs": []
    },
    {
      "cell_type": "code",
      "execution_count": null,
      "metadata": {
        "id": "vpgyajTOdJDd"
      },
      "outputs": [],
      "source": [
        "### usare l'elbow plot  pertrovare il numero di cluster adatto per performare una clusterizzazione con Kmeans\n"
      ]
    },
    {
      "cell_type": "code",
      "source": [
        "### generare anche il sihlouette plot\n"
      ],
      "metadata": {
        "id": "t0GRhnOVyyT4"
      },
      "execution_count": null,
      "outputs": []
    },
    {
      "cell_type": "code",
      "source": [
        "### plottare infine un pairplot usando come parametro 'hue' le labels generate dal KMeans scelto\n"
      ],
      "metadata": {
        "id": "gDXXl_4vzTGZ"
      },
      "execution_count": null,
      "outputs": []
    }
  ],
  "metadata": {
    "interpreter": {
      "hash": "683afeb50c3c1573d935b61d39c98ac70efc278eee8b1f68409fbbfcfc207edd"
    },
    "kernelspec": {
      "display_name": "Python 3.8.8 ('base')",
      "language": "python",
      "name": "python3"
    },
    "language_info": {
      "codemirror_mode": {
        "name": "ipython",
        "version": 3
      },
      "file_extension": ".py",
      "mimetype": "text/x-python",
      "name": "python",
      "nbconvert_exporter": "python",
      "pygments_lexer": "ipython3",
      "version": "3.8.8"
    },
    "orig_nbformat": 4,
    "colab": {
      "name": "ESERICIZIO_clustering_k_means.ipynb",
      "provenance": []
    }
  },
  "nbformat": 4,
  "nbformat_minor": 0
}