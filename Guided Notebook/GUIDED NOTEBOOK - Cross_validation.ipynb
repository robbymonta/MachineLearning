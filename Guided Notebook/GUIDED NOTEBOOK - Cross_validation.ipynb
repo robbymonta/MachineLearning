{
  "nbformat": 4,
  "nbformat_minor": 0,
  "metadata": {
    "colab": {
      "name": "GUIDED NOTEBOOK - cross_validation.ipynb",
      "provenance": []
    },
    "kernelspec": {
      "name": "python3",
      "display_name": "Python 3"
    },
    "language_info": {
      "name": "python"
    }
  },
  "cells": [
    {
      "cell_type": "code",
      "execution_count": 2,
      "metadata": {
        "id": "qW0-a2Wlnm8d"
      },
      "outputs": [],
      "source": [
        "### import\n",
        "import pandas as pd\n",
        "import seaborn as sns\n",
        "import matplotlib.pyplot as plt\n",
        "import numpy as np"
      ]
    },
    {
      "cell_type": "code",
      "source": [
        "### carico i dati\n",
        "df = pd.read_csv('life_SENZA_NaN.csv')"
      ],
      "metadata": {
        "id": "oMR8wQgtoyzL"
      },
      "execution_count": 3,
      "outputs": []
    },
    {
      "cell_type": "code",
      "source": [
        "### train/test split\n",
        "from sklearn.model_selection import train_test_split\n",
        "train_df, test_df = train_test_split(df, test_size=0.25, shuffle=True, random_state=22)"
      ],
      "metadata": {
        "id": "Px2wUP6qo9WD"
      },
      "execution_count": 5,
      "outputs": []
    },
    {
      "cell_type": "code",
      "source": [
        "target_name ='Life expectancy '\n",
        "features = ['Adult Mortality', ' HIV/AIDS', 'Income composition of resources']\n",
        "\n",
        "X_train = train_df[features].copy()\n",
        "X_test = test_df[features].copy()\n",
        "\n",
        "y_train = train_df[target_name].copy()\n",
        "y_test = test_df[target_name].copy()"
      ],
      "metadata": {
        "id": "-Dytuma1pdXl"
      },
      "execution_count": 11,
      "outputs": []
    },
    {
      "cell_type": "markdown",
      "metadata": {
        "id": "4k24tfLToa4w"
      },
      "source": [
        "# CROSS-VALIDATION"
      ]
    },
    {
      "cell_type": "markdown",
      "metadata": {
        "id": "UtuxByzeoa47"
      },
      "source": [
        "Per evitare problemi di overfitting è pratica comune usare un metodo chiamato 'cross-validation'. In pratica, in fase di fitting del modello, invece di fare un solo splitting tra dati di training e dati di test, si divide il dataset in più split e si valutano le performance del modello per ogni split. Scikit-learn integra già delle funzioni di cross-validation in ogni modello."
      ]
    },
    {
      "cell_type": "markdown",
      "metadata": {
        "id": "Q4gItk21oa48"
      },
      "source": [
        "## K-Fold"
      ]
    },
    {
      "cell_type": "code",
      "source": [
        "from sklearn.ensemble import RandomForestRegressor\n",
        "model = RandomForestRegressor()"
      ],
      "metadata": {
        "id": "sBXh05Rvoa49"
      },
      "execution_count": 12,
      "outputs": []
    },
    {
      "cell_type": "code",
      "execution_count": 13,
      "metadata": {
        "id": "O_8QaWJCoa4-"
      },
      "outputs": [],
      "source": [
        "from sklearn.model_selection import KFold\n",
        "from sklearn.model_selection import cross_validate, cross_val_score, cross_val_predict\n",
        "\n",
        "results = cross_validate(model, X_train, y_train, cv=KFold(n_splits=20), scoring=['r2'], return_train_score=True)"
      ]
    },
    {
      "cell_type": "code",
      "execution_count": 14,
      "metadata": {
        "colab": {
          "base_uri": "https://localhost:8080/",
          "height": 319
        },
        "outputId": "35cb2486-fe1f-42c1-bd61-5b1d8ec5c22c",
        "id": "kezkfuaaoa5A"
      },
      "outputs": [
        {
          "output_type": "display_data",
          "data": {
            "text/plain": [
              "{'fit_time': array([0.29014158, 0.28823423, 0.28382087, 0.28521609, 0.28476119,\n",
              "        0.27365375, 0.36911154, 0.26781249, 0.2687037 , 0.27832174,\n",
              "        0.27506137, 0.27255702, 0.28784704, 0.27489257, 0.27767539,\n",
              "        0.27603102, 0.27625227, 0.26733017, 0.27334499, 0.27953267]),\n",
              " 'score_time': array([0.01122499, 0.01137638, 0.01120257, 0.01261616, 0.01317978,\n",
              "        0.01128268, 0.01118279, 0.01159167, 0.01991916, 0.01127887,\n",
              "        0.01132226, 0.01140761, 0.01146889, 0.01206732, 0.0115602 ,\n",
              "        0.01157212, 0.01113939, 0.01112843, 0.01108694, 0.01134515]),\n",
              " 'test_r2': array([0.95487083, 0.91726724, 0.92890265, 0.92131299, 0.9304257 ,\n",
              "        0.90545103, 0.93538294, 0.97125715, 0.90705718, 0.91844952,\n",
              "        0.89857973, 0.88703985, 0.96725676, 0.93243513, 0.97514135,\n",
              "        0.9523135 , 0.93920492, 0.95730584, 0.93325015, 0.94490918]),\n",
              " 'train_r2': array([0.99138045, 0.99151559, 0.99123379, 0.99114717, 0.99105874,\n",
              "        0.99161481, 0.99090664, 0.99101325, 0.99160167, 0.9912326 ,\n",
              "        0.99173468, 0.99159076, 0.99116442, 0.99135756, 0.99077002,\n",
              "        0.99124931, 0.99139938, 0.99101568, 0.9907755 , 0.9913159 ])}"
            ]
          },
          "metadata": {}
        }
      ],
      "source": [
        "display(results)"
      ]
    },
    {
      "cell_type": "code",
      "execution_count": 15,
      "metadata": {
        "colab": {
          "base_uri": "https://localhost:8080/"
        },
        "outputId": "0572c59d-7b95-4704-b907-909c8ed203a0",
        "id": "2B8U0Jmdoa5F"
      },
      "outputs": [
        {
          "output_type": "stream",
          "name": "stdout",
          "text": [
            "Train r2:  0.991\n",
            "Test r2:  0.934\n"
          ]
        }
      ],
      "source": [
        "### Per trovare il valore finale mi basta fare una media:\n",
        "\n",
        "train_r2 = np.mean(results['train_r2'])\n",
        "test_r2 = np.mean(results['test_r2'])\n",
        "print('Train r2: ', round(train_r2, 3))\n",
        "print('Test r2: ', round(test_r2, 3))"
      ]
    },
    {
      "cell_type": "code",
      "execution_count": 16,
      "metadata": {
        "colab": {
          "base_uri": "https://localhost:8080/"
        },
        "outputId": "7a1c2cdf-850f-45b4-8258-c85cf07ca862",
        "id": "nyhjBEORoa5G"
      },
      "outputs": [
        {
          "output_type": "execute_result",
          "data": {
            "text/plain": [
              "dict_keys(['explained_variance', 'r2', 'max_error', 'neg_median_absolute_error', 'neg_mean_absolute_error', 'neg_mean_absolute_percentage_error', 'neg_mean_squared_error', 'neg_mean_squared_log_error', 'neg_root_mean_squared_error', 'neg_mean_poisson_deviance', 'neg_mean_gamma_deviance', 'accuracy', 'top_k_accuracy', 'roc_auc', 'roc_auc_ovr', 'roc_auc_ovo', 'roc_auc_ovr_weighted', 'roc_auc_ovo_weighted', 'balanced_accuracy', 'average_precision', 'neg_log_loss', 'neg_brier_score', 'adjusted_rand_score', 'rand_score', 'homogeneity_score', 'completeness_score', 'v_measure_score', 'mutual_info_score', 'adjusted_mutual_info_score', 'normalized_mutual_info_score', 'fowlkes_mallows_score', 'precision', 'precision_macro', 'precision_micro', 'precision_samples', 'precision_weighted', 'recall', 'recall_macro', 'recall_micro', 'recall_samples', 'recall_weighted', 'f1', 'f1_macro', 'f1_micro', 'f1_samples', 'f1_weighted', 'jaccard', 'jaccard_macro', 'jaccard_micro', 'jaccard_samples', 'jaccard_weighted'])"
            ]
          },
          "metadata": {},
          "execution_count": 16
        }
      ],
      "source": [
        "### Volendo posso anche farmi dare più metriche di scoring dalla cross-validation. Per vedere tutte quelle predefinite basta eseguire questo snippet\n",
        "import sklearn\n",
        "sklearn.metrics.SCORERS.keys()"
      ]
    },
    {
      "cell_type": "code",
      "execution_count": 17,
      "metadata": {
        "colab": {
          "base_uri": "https://localhost:8080/",
          "height": 460
        },
        "id": "y7LU-mVooa5J",
        "outputId": "02076b68-15e8-48e9-e8cf-efac30b986a6"
      },
      "outputs": [
        {
          "output_type": "display_data",
          "data": {
            "text/plain": [
              "{'fit_time': array([0.28451967, 0.27920961, 0.28296614, 0.27415824, 0.27738142,\n",
              "        0.27995157, 0.27351952, 0.27189732, 0.27505565, 0.27759123,\n",
              "        0.27569079, 0.27370334, 0.2842741 , 0.27812266, 0.27588773,\n",
              "        0.27365828, 0.27467418, 0.27453804, 0.27666688, 0.26976514]),\n",
              " 'score_time': array([0.0128212 , 0.01628637, 0.012079  , 0.01373482, 0.01193094,\n",
              "        0.01149249, 0.01184034, 0.01140594, 0.01555443, 0.01209092,\n",
              "        0.01205659, 0.01166558, 0.01146841, 0.01174617, 0.01364827,\n",
              "        0.0114243 , 0.01152396, 0.01161504, 0.01162696, 0.01170897]),\n",
              " 'test_neg_mean_absolute_error': array([-1.57194308, -1.42293805, -1.94347722, -1.68983019, -1.36308491,\n",
              "        -1.64113208, -1.50121289, -1.03860769, -1.86661099, -1.48641346,\n",
              "        -1.79432981, -1.64849519, -1.24761538, -1.43926923, -1.26955032,\n",
              "        -1.48577244, -1.91584071, -1.08828846, -1.47177724, -1.5540625 ]),\n",
              " 'test_r2': array([0.95422641, 0.91635536, 0.93088745, 0.91765733, 0.93213323,\n",
              "        0.90943666, 0.93225691, 0.97338847, 0.91020868, 0.91901103,\n",
              "        0.90330925, 0.89334051, 0.96843996, 0.93554384, 0.9715623 ,\n",
              "        0.95465559, 0.93687193, 0.96103332, 0.93236408, 0.94842076]),\n",
              " 'train_neg_mean_absolute_error': array([-0.56930652, -0.5622595 , -0.55312248, -0.57012139, -0.56905089,\n",
              "        -0.5580225 , -0.56941222, -0.57887035, -0.56380532, -0.5788207 ,\n",
              "        -0.55390397, -0.55731353, -0.56702355, -0.57148317, -0.57326147,\n",
              "        -0.56612551, -0.55830444, -0.57857518, -0.57281645, -0.57193374]),\n",
              " 'train_r2': array([0.99124168, 0.99144707, 0.99134939, 0.99125168, 0.99128523,\n",
              "        0.99161011, 0.9912968 , 0.99087999, 0.99150514, 0.9911304 ,\n",
              "        0.99153258, 0.99157206, 0.99099193, 0.99113743, 0.99083857,\n",
              "        0.99101484, 0.99139233, 0.9909473 , 0.99109481, 0.99080585])}"
            ]
          },
          "metadata": {}
        }
      ],
      "source": [
        "### con due metriche di scoring\n",
        "results = cross_validate(model, X_train, y_train, cv=KFold(n_splits=20), scoring=['r2','neg_mean_absolute_error'], return_train_score=True)\n",
        "display(results)"
      ]
    },
    {
      "cell_type": "markdown",
      "metadata": {
        "id": "fyy-V4thoa5U"
      },
      "source": [
        "## ShuffleSplit"
      ]
    },
    {
      "cell_type": "code",
      "execution_count": 18,
      "metadata": {
        "colab": {
          "base_uri": "https://localhost:8080/"
        },
        "id": "RpJ0jQZFoa5Y",
        "outputId": "71c67143-7a0f-45a2-ef30-ec98b27e8ccb"
      },
      "outputs": [
        {
          "output_type": "stream",
          "name": "stdout",
          "text": [
            "Train r2:  0.991\n",
            "Test r2:  0.937\n"
          ]
        }
      ],
      "source": [
        "### Per cambiare metodo di splitting basta cambiare il parametro cv\n",
        "\n",
        "from sklearn.model_selection import ShuffleSplit\n",
        "\n",
        "results = cross_validate(model, X_train, y_train, cv=ShuffleSplit(n_splits=10), scoring=['r2'], return_train_score=True)\n",
        "train_r2 = np.mean(results['train_r2'])\n",
        "test_r2 = np.mean(results['test_r2'])\n",
        "print('Train r2: ', round(train_r2, 3))\n",
        "print('Test r2: ', round(test_r2, 3))"
      ]
    },
    {
      "cell_type": "markdown",
      "metadata": {
        "id": "YXG5qEJsoa5a"
      },
      "source": [
        "## Model-selection con CV"
      ]
    },
    {
      "cell_type": "markdown",
      "metadata": {
        "id": "z1DuVMKIoa5d"
      },
      "source": [
        "Riprendendo il tuning di n_estimators..."
      ]
    },
    {
      "cell_type": "code",
      "execution_count": 21,
      "metadata": {
        "colab": {
          "base_uri": "https://localhost:8080/",
          "height": 317
        },
        "id": "3Uig4vcFoa5e",
        "outputId": "3901a335-ace8-4e49-f9d5-a011c3d6f802"
      },
      "outputs": [
        {
          "output_type": "stream",
          "name": "stderr",
          "text": [
            "100%|██████████| 19/19 [00:17<00:00,  1.06it/s]\n"
          ]
        },
        {
          "output_type": "display_data",
          "data": {
            "text/plain": [
              "<Figure size 432x288 with 1 Axes>"
            ],
            "image/png": "[encoded data removed]"
          },
          "metadata": {
            "needs_background": "light"
          }
        }
      ],
      "source": [
        "### TUNING n_estimators\n",
        "from tqdm import tqdm \n",
        "\n",
        "r2_train_list = list()\n",
        "r2_test_list = list()\n",
        "n_estimators_range = range(1,20)\n",
        "\n",
        "for n in tqdm(n_estimators_range):\n",
        "    model = RandomForestRegressor(n_estimators=n)\n",
        "    results = cross_validate(model, X_train, y_train, cv=KFold(n_splits=20), scoring=['r2'], return_train_score=True)\n",
        "    train_r2 = np.mean(results['train_r2'])\n",
        "    test_r2 = np.mean(results['test_r2'])\n",
        "\n",
        "    r2_train_list += [train_r2]\n",
        "    r2_test_list += [test_r2]\n",
        "\n",
        "\n",
        "plt.plot(n_estimators_range, r2_train_list, label='TRAIN')\n",
        "plt.plot(n_estimators_range, r2_test_list, label='TEST')\n",
        "plt.xlabel('n_estimators')\n",
        "plt.ylabel('r2')\n",
        "plt.legend()\n",
        "plt.show()"
      ]
    }
  ]
}