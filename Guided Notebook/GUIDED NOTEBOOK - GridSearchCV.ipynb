{
  "nbformat": 4,
  "nbformat_minor": 0,
  "metadata": {
    "colab": {
      "name": "GUIDED NOTEBOOK - GridSearchCV.ipynb",
      "provenance": []
    },
    "kernelspec": {
      "name": "python3",
      "display_name": "Python 3"
    },
    "language_info": {
      "name": "python"
    }
  },
  "cells": [
    {
      "cell_type": "code",
      "execution_count": null,
      "metadata": {
        "id": "qW0-a2Wlnm8d"
      },
      "outputs": [],
      "source": [
        "### import\n",
        "import pandas as pd\n",
        "import seaborn as sns\n",
        "import matplotlib.pyplot as plt\n",
        "import numpy as np"
      ]
    },
    {
      "cell_type": "code",
      "source": [
        "### carico i dati\n",
        "df = pd.read_csv('life_SENZA_NaN.csv')"
      ],
      "metadata": {
        "id": "oMR8wQgtoyzL"
      },
      "execution_count": null,
      "outputs": []
    },
    {
      "cell_type": "code",
      "source": [
        "### train/test split\n",
        "from sklearn.model_selection import train_test_split\n",
        "train_df, test_df = train_test_split(df, test_size=0.25, shuffle=True, random_state=22)"
      ],
      "metadata": {
        "id": "Px2wUP6qo9WD"
      },
      "execution_count": null,
      "outputs": []
    },
    {
      "cell_type": "code",
      "source": [
        "target_name ='Life expectancy '\n",
        "features = ['Adult Mortality', ' HIV/AIDS', 'Income composition of resources']\n",
        "\n",
        "X_train = train_df[features].copy()\n",
        "X_test = test_df[features].copy()\n",
        "\n",
        "y_train = train_df[target_name].copy()\n",
        "y_test = test_df[target_name].copy()"
      ],
      "metadata": {
        "id": "-Dytuma1pdXl"
      },
      "execution_count": null,
      "outputs": []
    },
    {
      "cell_type": "markdown",
      "metadata": {
        "id": "JI2_MgRWoa5g"
      },
      "source": [
        "# HYPER-PARAMETERS TUNING"
      ]
    },
    {
      "cell_type": "markdown",
      "metadata": {
        "id": "9TlI0Jf9oa5h"
      },
      "source": [
        "Come abbiamo visto il processo di tuning può essere fatto anche 'a spanne' valutando le performance di un modello al variare di ogni singolo  parametro del modello (vedi max_depth e n_estimators per il RandomForest). Quando però i parametri cominciano a essere molti, diventa difficile fare una valutazione oggettiva. Bisognerebbe poter valutare le performance del modello per ogni signola combinazione dei suoi iper-parametri. In effetti questo è proprio quello che fa GridSearchCV(): esegue la valutazione delle performance (in cross-validation, per questo c'è il CV) per ogni permutazione degli iper-parametri del modello.\n",
        "\n",
        "Questo metodo è ovviamente molto dispendioso dal punto di vista computazionale, e diventa tanto più dispendioso quanto più aumentano i valori associati a ogni singolo parametro (il cosiddetto spazio dei parametri). Per questo esistono anche altri metodi per indirizzare la ricerca del miglior modello nello spazio dei parametri. Noi qui vedremo solo RandomizedSearchCV(), che di fatto non esegue ogni singola permutazione ma fa una ricerca 'randomizzata'."
      ]
    },
    {
      "cell_type": "markdown",
      "metadata": {
        "id": "yEgdAwwqoa5l"
      },
      "source": [
        "## GridSearchCV()"
      ]
    },
    {
      "cell_type": "code",
      "execution_count": null,
      "metadata": {
        "id": "OCV3P60Goa5o"
      },
      "outputs": [],
      "source": [
        "from sklearn.ensemble import RandomForestRegressor\n",
        "from sklearn.model_selection import GridSearchCV, KFold\n",
        "\n",
        "\n",
        "parameters = {\n",
        "    'n_estimators':np.arange(1,10), \n",
        "    'max_depth':np.arange(1,10),\n",
        "    'max_features':['auto', 'sqrt', 'log2'],\n",
        "    }\n",
        "\n",
        "model = GridSearchCV(RandomForestRegressor(), param_grid=parameters, cv=KFold(n_splits=10), scoring='r2')"
      ]
    },
    {
      "cell_type": "code",
      "execution_count": null,
      "metadata": {
        "id": "K62KLj0eoa5r"
      },
      "outputs": [],
      "source": [
        "model = model.fit(X_train, y_train)"
      ]
    },
    {
      "cell_type": "code",
      "execution_count": null,
      "metadata": {
        "id": "h8D63B2Aoa5t"
      },
      "outputs": [],
      "source": [
        "model.best_estimator_"
      ]
    },
    {
      "cell_type": "code",
      "execution_count": null,
      "metadata": {
        "id": "EpptKqTqoa5u"
      },
      "outputs": [],
      "source": [
        "model.best_score_"
      ]
    },
    {
      "cell_type": "markdown",
      "metadata": {
        "id": "0SX6AoI1oa5u"
      },
      "source": [
        "## RandomizedSearchCV()"
      ]
    },
    {
      "cell_type": "code",
      "execution_count": null,
      "metadata": {
        "id": "3ZqlFXOzoa5v"
      },
      "outputs": [],
      "source": [
        "from sklearn.model_selection import RandomizedSearchCV\n",
        "\n",
        "parameters = {\n",
        "    'n_estimators':np.arange(1,10), \n",
        "    'max_depth':np.arange(1,10),\n",
        "    'max_features':['auto', 'sqrt', 'log2']\n",
        "    }\n",
        "\n",
        "\n",
        "model = RandomizedSearchCV(RandomForestRegressor(), param_distributions=parameters, cv=KFold(n_splits=10), scoring='r2')"
      ]
    },
    {
      "cell_type": "code",
      "execution_count": null,
      "metadata": {
        "id": "JPtDRZrboa5v"
      },
      "outputs": [],
      "source": [
        "model = model.fit(X_train, y_train)"
      ]
    },
    {
      "cell_type": "code",
      "execution_count": null,
      "metadata": {
        "id": "ijs6Zhc4oa5w"
      },
      "outputs": [],
      "source": [
        "model.best_estimator_"
      ]
    },
    {
      "cell_type": "code",
      "execution_count": null,
      "metadata": {
        "id": "IXmhCgO0oa5w"
      },
      "outputs": [],
      "source": [
        "model.best_score_"
      ]
    },
    {
      "cell_type": "markdown",
      "metadata": {
        "id": "0a61ea3c-db3d-4185-b0bc-5cc0f0d8d0f2"
      },
      "source": [
        "Per evitare problemi di overfitting è pratica comune usare un metodo chiamato 'cross-validation'. In pratica, in fase di fitting del modello, invece di fare un solo splitting tra dati di training e dati di test, si divide il dataset in più split e si valutano le performance del modello per ogni split. Scikit-learn integra già delle funzioni di cross-validation in ogni modello."
      ]
    },
    {
      "cell_type": "markdown",
      "metadata": {
        "id": "fed0e3fe-898e-49a9-a79c-7fb1cec9b138"
      },
      "source": [
        "## RandomizedSearchCV()"
      ]
    },
    {
      "cell_type": "code",
      "execution_count": null,
      "metadata": {
        "id": "b2b3c134-672d-462a-b52b-76e02c94d6e6"
      },
      "outputs": [],
      "source": [
        "from sklearn.model_selection import RandomizedSearchCV\n",
        "\n",
        "parameters = {\n",
        "    'n_estimators':np.arange(1,10), \n",
        "    'max_depth':np.arange(1,10),\n",
        "    'max_features':['auto', 'sqrt', 'log2']\n",
        "    }\n",
        "\n",
        "\n",
        "model = RandomizedSearchCV(RandomForestRegressor(), param_distributions=parameters, cv=KFold(n_splits=10), scoring='r2')"
      ]
    },
    {
      "cell_type": "code",
      "execution_count": null,
      "metadata": {
        "id": "05ed4092-b687-4953-a4ab-e29c6409181f"
      },
      "outputs": [],
      "source": [
        "model = model.fit(X_train, y_train)"
      ]
    },
    {
      "cell_type": "code",
      "execution_count": null,
      "metadata": {
        "id": "6ae07f3b-7610-44cc-9cc5-443b91078508"
      },
      "outputs": [],
      "source": [
        "model.best_estimator_"
      ]
    },
    {
      "cell_type": "code",
      "execution_count": null,
      "metadata": {
        "id": "ff25877f-eb0a-4540-95b4-7d937fdc1ddc"
      },
      "outputs": [],
      "source": [
        "model.best_score_"
      ]
    }
  ]
}