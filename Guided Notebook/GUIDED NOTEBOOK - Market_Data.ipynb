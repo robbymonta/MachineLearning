{
  "nbformat": 4,
  "nbformat_minor": 0,
  "metadata": {
    "colab": {
      "name": "Market_Data.ipynb",
      "provenance": [],
      "toc_visible": true
    },
    "kernelspec": {
      "name": "python3",
      "display_name": "Python 3"
    },
    "language_info": {
      "name": "python"
    }
  },
  "cells": [
    {
      "cell_type": "code",
      "execution_count": 8,
      "metadata": {
        "id": "HQNWvau4_Dny"
      },
      "outputs": [],
      "source": [
        "import pandas as pd\n",
        "import numpy as np\n",
        "import seaborn as sns\n",
        "import matplotlib.pyplot as plt\n",
        "import datetime as dt"
      ]
    },
    {
      "cell_type": "markdown",
      "source": [
        "# Data Import"
      ],
      "metadata": {
        "id": "VggJM3yjbiZr"
      }
    },
    {
      "cell_type": "markdown",
      "source": [
        "Vedi dati su Kaggle https://www.kaggle.com/datasets/rohanrao/nifty50-stock-market-data?select=NIFTY50_all.csv\n"
      ],
      "metadata": {
        "id": "UBtivrZ5eLPN"
      }
    },
    {
      "cell_type": "code",
      "source": [
        "df = pd.read_csv('BPCL.csv')"
      ],
      "metadata": {
        "id": "v35VwhNuCfSq"
      },
      "execution_count": 285,
      "outputs": []
    },
    {
      "cell_type": "code",
      "source": [
        "df.info()"
      ],
      "metadata": {
        "colab": {
          "base_uri": "https://localhost:8080/"
        },
        "id": "geKTljf3Cs0p",
        "outputId": "276a0410-293f-4569-adbc-357906f832ad"
      },
      "execution_count": 205,
      "outputs": [
        {
          "output_type": "stream",
          "name": "stdout",
          "text": [
            "<class 'pandas.core.frame.DataFrame'>\n",
            "RangeIndex: 5306 entries, 0 to 5305\n",
            "Data columns (total 15 columns):\n",
            " #   Column              Non-Null Count  Dtype  \n",
            "---  ------              --------------  -----  \n",
            " 0   Date                5306 non-null   object \n",
            " 1   Symbol              5306 non-null   object \n",
            " 2   Series              5306 non-null   object \n",
            " 3   Prev Close          5306 non-null   float64\n",
            " 4   Open                5306 non-null   float64\n",
            " 5   High                5306 non-null   float64\n",
            " 6   Low                 5306 non-null   float64\n",
            " 7   Last                5306 non-null   float64\n",
            " 8   Close               5306 non-null   float64\n",
            " 9   VWAP                5306 non-null   float64\n",
            " 10  Volume              5306 non-null   int64  \n",
            " 11  Turnover            5306 non-null   float64\n",
            " 12  Trades              2456 non-null   float64\n",
            " 13  Deliverable Volume  4797 non-null   float64\n",
            " 14  %Deliverble         4797 non-null   float64\n",
            "dtypes: float64(11), int64(1), object(3)\n",
            "memory usage: 621.9+ KB\n"
          ]
        }
      ]
    },
    {
      "cell_type": "code",
      "source": [
        "df['Date']"
      ],
      "metadata": {
        "colab": {
          "base_uri": "https://localhost:8080/"
        },
        "id": "AxH_gadkDTll",
        "outputId": "84502607-3924-4bc6-bab9-84d793795022"
      },
      "execution_count": 79,
      "outputs": [
        {
          "output_type": "execute_result",
          "data": {
            "text/plain": [
              "0       2000-01-03\n",
              "1       2000-01-04\n",
              "2       2000-01-05\n",
              "3       2000-01-06\n",
              "4       2000-01-07\n",
              "           ...    \n",
              "5301    2021-04-26\n",
              "5302    2021-04-27\n",
              "5303    2021-04-28\n",
              "5304    2021-04-29\n",
              "5305    2021-04-30\n",
              "Name: Date, Length: 5306, dtype: object"
            ]
          },
          "metadata": {},
          "execution_count": 79
        }
      ]
    },
    {
      "cell_type": "markdown",
      "source": [
        "# DatetimeIndex"
      ],
      "metadata": {
        "id": "DkGcZHfWFJR8"
      }
    },
    {
      "cell_type": "markdown",
      "source": [
        "La colonna Date è riconosciuta come 'object', ma noi vogliamo che diventi l'indice del DataFrame, e in particolare che diventi un DatetimeIndex"
      ],
      "metadata": {
        "id": "AlnH9xw2DX6X"
      }
    },
    {
      "cell_type": "code",
      "source": [
        "df.index = pd.to_datetime(df['Date'])\n",
        "df = df.sort_index()"
      ],
      "metadata": {
        "id": "EZtqhKvTDW9Z"
      },
      "execution_count": 206,
      "outputs": []
    },
    {
      "cell_type": "markdown",
      "source": [
        "Il DatetimeIndex ha una serie di vantaggi pratici:\n",
        "- si possono ricavare i tipici attributi di una data (ora, giorno, mese etc.)\n",
        "- si ordinano semplicemente con sort_index()\n",
        "si può fare un 'resampling' su un diverso step temporale molto facilmente\n",
        "- ..."
      ],
      "metadata": {
        "id": "XQPG3ZtZDyJ9"
      }
    },
    {
      "cell_type": "code",
      "source": [
        "df.index.dayofweek"
      ],
      "metadata": {
        "colab": {
          "base_uri": "https://localhost:8080/"
        },
        "id": "V1N6AGxJDxb-",
        "outputId": "b9851456-923d-4370-e6ca-99bc0f8c9a27"
      },
      "execution_count": 10,
      "outputs": [
        {
          "output_type": "execute_result",
          "data": {
            "text/plain": [
              "Int64Index([0, 1, 2, 3, 4, 0, 1, 2, 3, 4,\n",
              "            ...\n",
              "            4, 0, 1, 3, 4, 0, 1, 2, 3, 4],\n",
              "           dtype='int64', name='Date', length=5306)"
            ]
          },
          "metadata": {},
          "execution_count": 10
        }
      ]
    },
    {
      "cell_type": "code",
      "source": [
        "df.index.month"
      ],
      "metadata": {
        "colab": {
          "base_uri": "https://localhost:8080/"
        },
        "id": "sWZmOd6VEUiR",
        "outputId": "a972eb28-d02d-42cd-c80d-0ba9744ce513"
      },
      "execution_count": 12,
      "outputs": [
        {
          "output_type": "execute_result",
          "data": {
            "text/plain": [
              "Int64Index([1, 1, 1, 1, 1, 1, 1, 1, 1, 1,\n",
              "            ...\n",
              "            4, 4, 4, 4, 4, 4, 4, 4, 4, 4],\n",
              "           dtype='int64', name='Date', length=5306)"
            ]
          },
          "metadata": {},
          "execution_count": 12
        }
      ]
    },
    {
      "cell_type": "code",
      "source": [
        "### si può anche cambiare la formattazione della data (non è importante per ora saperlo gestire)\n",
        "df.index.strftime('%a-%d-%m-%y')"
      ],
      "metadata": {
        "colab": {
          "base_uri": "https://localhost:8080/"
        },
        "id": "SfQhtVaqEWfD",
        "outputId": "fca07c50-0714-4059-aa47-f2f0a1d174d1"
      },
      "execution_count": 15,
      "outputs": [
        {
          "output_type": "execute_result",
          "data": {
            "text/plain": [
              "Index(['Mon-03-01-00', 'Tue-04-01-00', 'Wed-05-01-00', 'Thu-06-01-00',\n",
              "       'Fri-07-01-00', 'Mon-10-01-00', 'Tue-11-01-00', 'Wed-12-01-00',\n",
              "       'Thu-13-01-00', 'Fri-14-01-00',\n",
              "       ...\n",
              "       'Fri-16-04-21', 'Mon-19-04-21', 'Tue-20-04-21', 'Thu-22-04-21',\n",
              "       'Fri-23-04-21', 'Mon-26-04-21', 'Tue-27-04-21', 'Wed-28-04-21',\n",
              "       'Thu-29-04-21', 'Fri-30-04-21'],\n",
              "      dtype='object', name='Date', length=5306)"
            ]
          },
          "metadata": {},
          "execution_count": 15
        }
      ]
    },
    {
      "cell_type": "code",
      "source": [
        "## resampling ('T':minute, 'D':day,'W':week, 'M':month, 'Y':year)\n",
        "df.resample('W').agg(np.mean)"
      ],
      "metadata": {
        "colab": {
          "base_uri": "https://localhost:8080/",
          "height": 716
        },
        "id": "78I1snpVDryU",
        "outputId": "7252c944-d35c-48a7-fcb3-64fa591ea78c"
      },
      "execution_count": 20,
      "outputs": [
        {
          "output_type": "execute_result",
          "data": {
            "text/plain": [
              "            Prev Close         Open         High          Low         Last  \\\n",
              "Date                                                                         \n",
              "2000-01-09     377.780   376.480000   389.380000   372.200000   384.420000   \n",
              "2000-01-16     410.450   416.600000   426.570000   409.820000   415.970000   \n",
              "2000-01-23     415.060   420.400000   428.780000   412.350000   419.380000   \n",
              "2000-01-30     462.975   476.000000   492.000000   456.500000   478.250000   \n",
              "2000-02-06     463.530   471.600000   474.000000   457.600000   458.110000   \n",
              "...                ...          ...          ...          ...          ...   \n",
              "2021-04-04    2540.200  2549.716667  2576.983333  2528.166667  2551.083333   \n",
              "2021-04-11    2590.650  2590.800000  2631.890000  2565.450000  2604.530000   \n",
              "2021-04-18    2597.850  2588.950000  2630.762500  2559.500000  2603.112500   \n",
              "2021-04-25    2575.125  2583.187500  2594.175000  2519.962500  2538.225000   \n",
              "2021-05-02    2575.640  2577.600000  2604.590000  2546.610000  2576.600000   \n",
              "\n",
              "                  Close      VWAP      Volume      Turnover        Trades  \\\n",
              "Date                                                                        \n",
              "2000-01-09   382.680000   381.422     4741.40  1.811769e+11           NaN   \n",
              "2000-01-16   415.310000   416.278    44901.80  1.858290e+12           NaN   \n",
              "2000-01-23   418.230000   419.592    29332.60  1.239302e+12           NaN   \n",
              "2000-01-30   476.675000   474.660    45686.50  2.163867e+12           NaN   \n",
              "2000-02-06   458.740000   460.112    35126.00  1.614499e+12           NaN   \n",
              "...                 ...       ...         ...           ...           ...   \n",
              "2021-04-04  2555.733333  2554.190  1723014.00  4.402757e+14  82018.333333   \n",
              "2021-04-11  2606.460000  2602.946  1732452.40  4.504097e+14  99680.600000   \n",
              "2021-04-18  2606.075000  2601.310  1649631.75  4.314018e+14  86663.750000   \n",
              "2021-04-25  2538.687500  2547.195  1586668.50  4.039620e+14  83437.750000   \n",
              "2021-05-02  2579.330000  2577.984  1143225.00  2.947869e+14  66828.000000   \n",
              "\n",
              "            Deliverable Volume  %Deliverble  \n",
              "Date                                         \n",
              "2000-01-09                 NaN          NaN  \n",
              "2000-01-16                 NaN          NaN  \n",
              "2000-01-23                 NaN          NaN  \n",
              "2000-01-30                 NaN          NaN  \n",
              "2000-02-06                 NaN          NaN  \n",
              "...                        ...          ...  \n",
              "2021-04-04           587264.00      0.33470  \n",
              "2021-04-11           592163.40      0.33840  \n",
              "2021-04-18           554323.75      0.33495  \n",
              "2021-04-25           559573.75      0.35140  \n",
              "2021-05-02           452825.20      0.38752  \n",
              "\n",
              "[1113 rows x 12 columns]"
            ],
            "text/html": [
              "\n",
              "  <div id=\"df-efe3f430-446b-4fa1-8219-65445b56da25\">\n",
              "    <div class=\"colab-df-container\">\n",
              "      <div>\n",
              "<style scoped>\n",
              "    .dataframe tbody tr th:only-of-type {\n",
              "        vertical-align: middle;\n",
              "    }\n",
              "\n",
              "    .dataframe tbody tr th {\n",
              "        vertical-align: top;\n",
              "    }\n",
              "\n",
              "    .dataframe thead th {\n",
              "        text-align: right;\n",
              "    }\n",
              "</style>\n",
              "<table border=\"1\" class=\"dataframe\">\n",
              "  <thead>\n",
              "    <tr style=\"text-align: right;\">\n",
              "      <th></th>\n",
              "      <th>Prev Close</th>\n",
              "      <th>Open</th>\n",
              "      <th>High</th>\n",
              "      <th>Low</th>\n",
              "      <th>Last</th>\n",
              "      <th>Close</th>\n",
              "      <th>VWAP</th>\n",
              "      <th>Volume</th>\n",
              "      <th>Turnover</th>\n",
              "      <th>Trades</th>\n",
              "      <th>Deliverable Volume</th>\n",
              "      <th>%Deliverble</th>\n",
              "    </tr>\n",
              "    <tr>\n",
              "      <th>Date</th>\n",
              "      <th></th>\n",
              "      <th></th>\n",
              "      <th></th>\n",
              "      <th></th>\n",
              "      <th></th>\n",
              "      <th></th>\n",
              "      <th></th>\n",
              "      <th></th>\n",
              "      <th></th>\n",
              "      <th></th>\n",
              "      <th></th>\n",
              "      <th></th>\n",
              "    </tr>\n",
              "  </thead>\n",
              "  <tbody>\n",
              "    <tr>\n",
              "      <th>2000-01-09</th>\n",
              "      <td>377.780</td>\n",
              "      <td>376.480000</td>\n",
              "      <td>389.380000</td>\n",
              "      <td>372.200000</td>\n",
              "      <td>384.420000</td>\n",
              "      <td>382.680000</td>\n",
              "      <td>381.422</td>\n",
              "      <td>4741.40</td>\n",
              "      <td>1.811769e+11</td>\n",
              "      <td>NaN</td>\n",
              "      <td>NaN</td>\n",
              "      <td>NaN</td>\n",
              "    </tr>\n",
              "    <tr>\n",
              "      <th>2000-01-16</th>\n",
              "      <td>410.450</td>\n",
              "      <td>416.600000</td>\n",
              "      <td>426.570000</td>\n",
              "      <td>409.820000</td>\n",
              "      <td>415.970000</td>\n",
              "      <td>415.310000</td>\n",
              "      <td>416.278</td>\n",
              "      <td>44901.80</td>\n",
              "      <td>1.858290e+12</td>\n",
              "      <td>NaN</td>\n",
              "      <td>NaN</td>\n",
              "      <td>NaN</td>\n",
              "    </tr>\n",
              "    <tr>\n",
              "      <th>2000-01-23</th>\n",
              "      <td>415.060</td>\n",
              "      <td>420.400000</td>\n",
              "      <td>428.780000</td>\n",
              "      <td>412.350000</td>\n",
              "      <td>419.380000</td>\n",
              "      <td>418.230000</td>\n",
              "      <td>419.592</td>\n",
              "      <td>29332.60</td>\n",
              "      <td>1.239302e+12</td>\n",
              "      <td>NaN</td>\n",
              "      <td>NaN</td>\n",
              "      <td>NaN</td>\n",
              "    </tr>\n",
              "    <tr>\n",
              "      <th>2000-01-30</th>\n",
              "      <td>462.975</td>\n",
              "      <td>476.000000</td>\n",
              "      <td>492.000000</td>\n",
              "      <td>456.500000</td>\n",
              "      <td>478.250000</td>\n",
              "      <td>476.675000</td>\n",
              "      <td>474.660</td>\n",
              "      <td>45686.50</td>\n",
              "      <td>2.163867e+12</td>\n",
              "      <td>NaN</td>\n",
              "      <td>NaN</td>\n",
              "      <td>NaN</td>\n",
              "    </tr>\n",
              "    <tr>\n",
              "      <th>2000-02-06</th>\n",
              "      <td>463.530</td>\n",
              "      <td>471.600000</td>\n",
              "      <td>474.000000</td>\n",
              "      <td>457.600000</td>\n",
              "      <td>458.110000</td>\n",
              "      <td>458.740000</td>\n",
              "      <td>460.112</td>\n",
              "      <td>35126.00</td>\n",
              "      <td>1.614499e+12</td>\n",
              "      <td>NaN</td>\n",
              "      <td>NaN</td>\n",
              "      <td>NaN</td>\n",
              "    </tr>\n",
              "    <tr>\n",
              "      <th>...</th>\n",
              "      <td>...</td>\n",
              "      <td>...</td>\n",
              "      <td>...</td>\n",
              "      <td>...</td>\n",
              "      <td>...</td>\n",
              "      <td>...</td>\n",
              "      <td>...</td>\n",
              "      <td>...</td>\n",
              "      <td>...</td>\n",
              "      <td>...</td>\n",
              "      <td>...</td>\n",
              "      <td>...</td>\n",
              "    </tr>\n",
              "    <tr>\n",
              "      <th>2021-04-04</th>\n",
              "      <td>2540.200</td>\n",
              "      <td>2549.716667</td>\n",
              "      <td>2576.983333</td>\n",
              "      <td>2528.166667</td>\n",
              "      <td>2551.083333</td>\n",
              "      <td>2555.733333</td>\n",
              "      <td>2554.190</td>\n",
              "      <td>1723014.00</td>\n",
              "      <td>4.402757e+14</td>\n",
              "      <td>82018.333333</td>\n",
              "      <td>587264.00</td>\n",
              "      <td>0.33470</td>\n",
              "    </tr>\n",
              "    <tr>\n",
              "      <th>2021-04-11</th>\n",
              "      <td>2590.650</td>\n",
              "      <td>2590.800000</td>\n",
              "      <td>2631.890000</td>\n",
              "      <td>2565.450000</td>\n",
              "      <td>2604.530000</td>\n",
              "      <td>2606.460000</td>\n",
              "      <td>2602.946</td>\n",
              "      <td>1732452.40</td>\n",
              "      <td>4.504097e+14</td>\n",
              "      <td>99680.600000</td>\n",
              "      <td>592163.40</td>\n",
              "      <td>0.33840</td>\n",
              "    </tr>\n",
              "    <tr>\n",
              "      <th>2021-04-18</th>\n",
              "      <td>2597.850</td>\n",
              "      <td>2588.950000</td>\n",
              "      <td>2630.762500</td>\n",
              "      <td>2559.500000</td>\n",
              "      <td>2603.112500</td>\n",
              "      <td>2606.075000</td>\n",
              "      <td>2601.310</td>\n",
              "      <td>1649631.75</td>\n",
              "      <td>4.314018e+14</td>\n",
              "      <td>86663.750000</td>\n",
              "      <td>554323.75</td>\n",
              "      <td>0.33495</td>\n",
              "    </tr>\n",
              "    <tr>\n",
              "      <th>2021-04-25</th>\n",
              "      <td>2575.125</td>\n",
              "      <td>2583.187500</td>\n",
              "      <td>2594.175000</td>\n",
              "      <td>2519.962500</td>\n",
              "      <td>2538.225000</td>\n",
              "      <td>2538.687500</td>\n",
              "      <td>2547.195</td>\n",
              "      <td>1586668.50</td>\n",
              "      <td>4.039620e+14</td>\n",
              "      <td>83437.750000</td>\n",
              "      <td>559573.75</td>\n",
              "      <td>0.35140</td>\n",
              "    </tr>\n",
              "    <tr>\n",
              "      <th>2021-05-02</th>\n",
              "      <td>2575.640</td>\n",
              "      <td>2577.600000</td>\n",
              "      <td>2604.590000</td>\n",
              "      <td>2546.610000</td>\n",
              "      <td>2576.600000</td>\n",
              "      <td>2579.330000</td>\n",
              "      <td>2577.984</td>\n",
              "      <td>1143225.00</td>\n",
              "      <td>2.947869e+14</td>\n",
              "      <td>66828.000000</td>\n",
              "      <td>452825.20</td>\n",
              "      <td>0.38752</td>\n",
              "    </tr>\n",
              "  </tbody>\n",
              "</table>\n",
              "<p>1113 rows × 12 columns</p>\n",
              "</div>\n",
              "      <button class=\"colab-df-convert\" onclick=\"convertToInteractive('df-efe3f430-446b-4fa1-8219-65445b56da25')\"\n",
              "              title=\"Convert this dataframe to an interactive table.\"\n",
              "              style=\"display:none;\">\n",
              "        \n",
              "  <svg xmlns=\"http://www.w3.org/2000/svg\" height=\"24px\"viewBox=\"0 0 24 24\"\n",
              "       width=\"24px\">\n",
              "    <path d=\"M0 0h24v24H0V0z\" fill=\"none\"/>\n",
              "    <path d=\"M18.56 5.44l.94 2.06.94-2.06 2.06-.94-2.06-.94-.94-2.06-.94 2.06-2.06.94zm-11 1L8.5 8.5l.94-2.06 2.06-.94-2.06-.94L8.5 2.5l-.94 2.06-2.06.94zm10 10l.94 2.06.94-2.06 2.06-.94-2.06-.94-.94-2.06-.94 2.06-2.06.94z\"/><path d=\"M17.41 7.96l-1.37-1.37c-.4-.4-.92-.59-1.43-.59-.52 0-1.04.2-1.43.59L10.3 9.45l-7.72 7.72c-.78.78-.78 2.05 0 2.83L4 21.41c.39.39.9.59 1.41.59.51 0 1.02-.2 1.41-.59l7.78-7.78 2.81-2.81c.8-.78.8-2.07 0-2.86zM5.41 20L4 18.59l7.72-7.72 1.47 1.35L5.41 20z\"/>\n",
              "  </svg>\n",
              "      </button>\n",
              "      \n",
              "  <style>\n",
              "    .colab-df-container {\n",
              "      display:flex;\n",
              "      flex-wrap:wrap;\n",
              "      gap: 12px;\n",
              "    }\n",
              "\n",
              "    .colab-df-convert {\n",
              "      background-color: #E8F0FE;\n",
              "      border: none;\n",
              "      border-radius: 50%;\n",
              "      cursor: pointer;\n",
              "      display: none;\n",
              "      fill: #1967D2;\n",
              "      height: 32px;\n",
              "      padding: 0 0 0 0;\n",
              "      width: 32px;\n",
              "    }\n",
              "\n",
              "    .colab-df-convert:hover {\n",
              "      background-color: #E2EBFA;\n",
              "      box-shadow: 0px 1px 2px rgba(60, 64, 67, 0.3), 0px 1px 3px 1px rgba(60, 64, 67, 0.15);\n",
              "      fill: #174EA6;\n",
              "    }\n",
              "\n",
              "    [theme=dark] .colab-df-convert {\n",
              "      background-color: #3B4455;\n",
              "      fill: #D2E3FC;\n",
              "    }\n",
              "\n",
              "    [theme=dark] .colab-df-convert:hover {\n",
              "      background-color: #434B5C;\n",
              "      box-shadow: 0px 1px 3px 1px rgba(0, 0, 0, 0.15);\n",
              "      filter: drop-shadow(0px 1px 2px rgba(0, 0, 0, 0.3));\n",
              "      fill: #FFFFFF;\n",
              "    }\n",
              "  </style>\n",
              "\n",
              "      <script>\n",
              "        const buttonEl =\n",
              "          document.querySelector('#df-efe3f430-446b-4fa1-8219-65445b56da25 button.colab-df-convert');\n",
              "        buttonEl.style.display =\n",
              "          google.colab.kernel.accessAllowed ? 'block' : 'none';\n",
              "\n",
              "        async function convertToInteractive(key) {\n",
              "          const element = document.querySelector('#df-efe3f430-446b-4fa1-8219-65445b56da25');\n",
              "          const dataTable =\n",
              "            await google.colab.kernel.invokeFunction('convertToInteractive',\n",
              "                                                     [key], {});\n",
              "          if (!dataTable) return;\n",
              "\n",
              "          const docLinkHtml = 'Like what you see? Visit the ' +\n",
              "            '<a target=\"_blank\" href=https://colab.research.google.com/notebooks/data_table.ipynb>data table notebook</a>'\n",
              "            + ' to learn more about interactive tables.';\n",
              "          element.innerHTML = '';\n",
              "          dataTable['output_type'] = 'display_data';\n",
              "          await google.colab.output.renderOutput(dataTable, element);\n",
              "          const docLink = document.createElement('div');\n",
              "          docLink.innerHTML = docLinkHtml;\n",
              "          element.appendChild(docLink);\n",
              "        }\n",
              "      </script>\n",
              "    </div>\n",
              "  </div>\n",
              "  "
            ]
          },
          "metadata": {},
          "execution_count": 20
        }
      ]
    },
    {
      "cell_type": "code",
      "source": [
        "df.loc['2012-01-10':'2012-01-15']"
      ],
      "metadata": {
        "colab": {
          "base_uri": "https://localhost:8080/",
          "height": 360
        },
        "id": "Pa9yjIECKbjx",
        "outputId": "6bdf823d-99b3-4b95-a74b-886eba788049"
      },
      "execution_count": 85,
      "outputs": [
        {
          "output_type": "execute_result",
          "data": {
            "text/plain": [
              "                  Date Symbol Series  Prev Close    Open    High     Low  \\\n",
              "Date                                                                       \n",
              "2012-01-10  2012-01-10   BPCL     EQ      469.05  472.00  486.60  470.55   \n",
              "2012-01-11  2012-01-11   BPCL     EQ      482.70  486.95  509.85  485.15   \n",
              "2012-01-12  2012-01-12   BPCL     EQ      507.50  509.40  516.00  500.10   \n",
              "2012-01-13  2012-01-13   BPCL     EQ      512.45  517.40  519.00  506.10   \n",
              "\n",
              "              Last   Close    VWAP  Volume      Turnover   Trades  \\\n",
              "Date                                                                \n",
              "2012-01-10  482.50  482.70  480.60  354887  1.705605e+13  15551.0   \n",
              "2012-01-11  508.00  507.50  499.99  770161  3.850712e+13  27331.0   \n",
              "2012-01-12  513.40  512.45  511.09  774656  3.959198e+13  13548.0   \n",
              "2012-01-13  506.55  508.65  512.00  252079  1.290637e+13  11744.0   \n",
              "\n",
              "            Deliverable Volume  %Deliverble  \n",
              "Date                                         \n",
              "2012-01-10            161133.0       0.4540  \n",
              "2012-01-11            382577.0       0.4967  \n",
              "2012-01-12            520689.0       0.6722  \n",
              "2012-01-13             77731.0       0.3084  "
            ],
            "text/html": [
              "\n",
              "  <div id=\"df-88715350-be5e-429b-a459-1e6a75120c4b\">\n",
              "    <div class=\"colab-df-container\">\n",
              "      <div>\n",
              "<style scoped>\n",
              "    .dataframe tbody tr th:only-of-type {\n",
              "        vertical-align: middle;\n",
              "    }\n",
              "\n",
              "    .dataframe tbody tr th {\n",
              "        vertical-align: top;\n",
              "    }\n",
              "\n",
              "    .dataframe thead th {\n",
              "        text-align: right;\n",
              "    }\n",
              "</style>\n",
              "<table border=\"1\" class=\"dataframe\">\n",
              "  <thead>\n",
              "    <tr style=\"text-align: right;\">\n",
              "      <th></th>\n",
              "      <th>Date</th>\n",
              "      <th>Symbol</th>\n",
              "      <th>Series</th>\n",
              "      <th>Prev Close</th>\n",
              "      <th>Open</th>\n",
              "      <th>High</th>\n",
              "      <th>Low</th>\n",
              "      <th>Last</th>\n",
              "      <th>Close</th>\n",
              "      <th>VWAP</th>\n",
              "      <th>Volume</th>\n",
              "      <th>Turnover</th>\n",
              "      <th>Trades</th>\n",
              "      <th>Deliverable Volume</th>\n",
              "      <th>%Deliverble</th>\n",
              "    </tr>\n",
              "    <tr>\n",
              "      <th>Date</th>\n",
              "      <th></th>\n",
              "      <th></th>\n",
              "      <th></th>\n",
              "      <th></th>\n",
              "      <th></th>\n",
              "      <th></th>\n",
              "      <th></th>\n",
              "      <th></th>\n",
              "      <th></th>\n",
              "      <th></th>\n",
              "      <th></th>\n",
              "      <th></th>\n",
              "      <th></th>\n",
              "      <th></th>\n",
              "      <th></th>\n",
              "    </tr>\n",
              "  </thead>\n",
              "  <tbody>\n",
              "    <tr>\n",
              "      <th>2012-01-10</th>\n",
              "      <td>2012-01-10</td>\n",
              "      <td>BPCL</td>\n",
              "      <td>EQ</td>\n",
              "      <td>469.05</td>\n",
              "      <td>472.00</td>\n",
              "      <td>486.60</td>\n",
              "      <td>470.55</td>\n",
              "      <td>482.50</td>\n",
              "      <td>482.70</td>\n",
              "      <td>480.60</td>\n",
              "      <td>354887</td>\n",
              "      <td>1.705605e+13</td>\n",
              "      <td>15551.0</td>\n",
              "      <td>161133.0</td>\n",
              "      <td>0.4540</td>\n",
              "    </tr>\n",
              "    <tr>\n",
              "      <th>2012-01-11</th>\n",
              "      <td>2012-01-11</td>\n",
              "      <td>BPCL</td>\n",
              "      <td>EQ</td>\n",
              "      <td>482.70</td>\n",
              "      <td>486.95</td>\n",
              "      <td>509.85</td>\n",
              "      <td>485.15</td>\n",
              "      <td>508.00</td>\n",
              "      <td>507.50</td>\n",
              "      <td>499.99</td>\n",
              "      <td>770161</td>\n",
              "      <td>3.850712e+13</td>\n",
              "      <td>27331.0</td>\n",
              "      <td>382577.0</td>\n",
              "      <td>0.4967</td>\n",
              "    </tr>\n",
              "    <tr>\n",
              "      <th>2012-01-12</th>\n",
              "      <td>2012-01-12</td>\n",
              "      <td>BPCL</td>\n",
              "      <td>EQ</td>\n",
              "      <td>507.50</td>\n",
              "      <td>509.40</td>\n",
              "      <td>516.00</td>\n",
              "      <td>500.10</td>\n",
              "      <td>513.40</td>\n",
              "      <td>512.45</td>\n",
              "      <td>511.09</td>\n",
              "      <td>774656</td>\n",
              "      <td>3.959198e+13</td>\n",
              "      <td>13548.0</td>\n",
              "      <td>520689.0</td>\n",
              "      <td>0.6722</td>\n",
              "    </tr>\n",
              "    <tr>\n",
              "      <th>2012-01-13</th>\n",
              "      <td>2012-01-13</td>\n",
              "      <td>BPCL</td>\n",
              "      <td>EQ</td>\n",
              "      <td>512.45</td>\n",
              "      <td>517.40</td>\n",
              "      <td>519.00</td>\n",
              "      <td>506.10</td>\n",
              "      <td>506.55</td>\n",
              "      <td>508.65</td>\n",
              "      <td>512.00</td>\n",
              "      <td>252079</td>\n",
              "      <td>1.290637e+13</td>\n",
              "      <td>11744.0</td>\n",
              "      <td>77731.0</td>\n",
              "      <td>0.3084</td>\n",
              "    </tr>\n",
              "  </tbody>\n",
              "</table>\n",
              "</div>\n",
              "      <button class=\"colab-df-convert\" onclick=\"convertToInteractive('df-88715350-be5e-429b-a459-1e6a75120c4b')\"\n",
              "              title=\"Convert this dataframe to an interactive table.\"\n",
              "              style=\"display:none;\">\n",
              "        \n",
              "  <svg xmlns=\"http://www.w3.org/2000/svg\" height=\"24px\"viewBox=\"0 0 24 24\"\n",
              "       width=\"24px\">\n",
              "    <path d=\"M0 0h24v24H0V0z\" fill=\"none\"/>\n",
              "    <path d=\"M18.56 5.44l.94 2.06.94-2.06 2.06-.94-2.06-.94-.94-2.06-.94 2.06-2.06.94zm-11 1L8.5 8.5l.94-2.06 2.06-.94-2.06-.94L8.5 2.5l-.94 2.06-2.06.94zm10 10l.94 2.06.94-2.06 2.06-.94-2.06-.94-.94-2.06-.94 2.06-2.06.94z\"/><path d=\"M17.41 7.96l-1.37-1.37c-.4-.4-.92-.59-1.43-.59-.52 0-1.04.2-1.43.59L10.3 9.45l-7.72 7.72c-.78.78-.78 2.05 0 2.83L4 21.41c.39.39.9.59 1.41.59.51 0 1.02-.2 1.41-.59l7.78-7.78 2.81-2.81c.8-.78.8-2.07 0-2.86zM5.41 20L4 18.59l7.72-7.72 1.47 1.35L5.41 20z\"/>\n",
              "  </svg>\n",
              "      </button>\n",
              "      \n",
              "  <style>\n",
              "    .colab-df-container {\n",
              "      display:flex;\n",
              "      flex-wrap:wrap;\n",
              "      gap: 12px;\n",
              "    }\n",
              "\n",
              "    .colab-df-convert {\n",
              "      background-color: #E8F0FE;\n",
              "      border: none;\n",
              "      border-radius: 50%;\n",
              "      cursor: pointer;\n",
              "      display: none;\n",
              "      fill: #1967D2;\n",
              "      height: 32px;\n",
              "      padding: 0 0 0 0;\n",
              "      width: 32px;\n",
              "    }\n",
              "\n",
              "    .colab-df-convert:hover {\n",
              "      background-color: #E2EBFA;\n",
              "      box-shadow: 0px 1px 2px rgba(60, 64, 67, 0.3), 0px 1px 3px 1px rgba(60, 64, 67, 0.15);\n",
              "      fill: #174EA6;\n",
              "    }\n",
              "\n",
              "    [theme=dark] .colab-df-convert {\n",
              "      background-color: #3B4455;\n",
              "      fill: #D2E3FC;\n",
              "    }\n",
              "\n",
              "    [theme=dark] .colab-df-convert:hover {\n",
              "      background-color: #434B5C;\n",
              "      box-shadow: 0px 1px 3px 1px rgba(0, 0, 0, 0.15);\n",
              "      filter: drop-shadow(0px 1px 2px rgba(0, 0, 0, 0.3));\n",
              "      fill: #FFFFFF;\n",
              "    }\n",
              "  </style>\n",
              "\n",
              "      <script>\n",
              "        const buttonEl =\n",
              "          document.querySelector('#df-88715350-be5e-429b-a459-1e6a75120c4b button.colab-df-convert');\n",
              "        buttonEl.style.display =\n",
              "          google.colab.kernel.accessAllowed ? 'block' : 'none';\n",
              "\n",
              "        async function convertToInteractive(key) {\n",
              "          const element = document.querySelector('#df-88715350-be5e-429b-a459-1e6a75120c4b');\n",
              "          const dataTable =\n",
              "            await google.colab.kernel.invokeFunction('convertToInteractive',\n",
              "                                                     [key], {});\n",
              "          if (!dataTable) return;\n",
              "\n",
              "          const docLinkHtml = 'Like what you see? Visit the ' +\n",
              "            '<a target=\"_blank\" href=https://colab.research.google.com/notebooks/data_table.ipynb>data table notebook</a>'\n",
              "            + ' to learn more about interactive tables.';\n",
              "          element.innerHTML = '';\n",
              "          dataTable['output_type'] = 'display_data';\n",
              "          await google.colab.output.renderOutput(dataTable, element);\n",
              "          const docLink = document.createElement('div');\n",
              "          docLink.innerHTML = docLinkHtml;\n",
              "          element.appendChild(docLink);\n",
              "        }\n",
              "      </script>\n",
              "    </div>\n",
              "  </div>\n",
              "  "
            ]
          },
          "metadata": {},
          "execution_count": 85
        }
      ]
    },
    {
      "cell_type": "markdown",
      "source": [
        "# Modeling"
      ],
      "metadata": {
        "id": "W8n3WciqbufT"
      }
    },
    {
      "cell_type": "code",
      "source": [
        "df['Open'].plot()\n",
        "plt.show()"
      ],
      "metadata": {
        "colab": {
          "base_uri": "https://localhost:8080/",
          "height": 444
        },
        "id": "7m-jDF-zJ9mj",
        "outputId": "9c798c55-b33b-49f2-eaf4-708ff72ec8ea"
      },
      "execution_count": 87,
      "outputs": [
        {
          "output_type": "display_data",
          "data": {
            "text/plain": [
              "<Figure size 640x480 with 1 Axes>"
            ],
            "image/png": "[encoded data removed]"
          },
          "metadata": {}
        }
      ]
    },
    {
      "cell_type": "markdown",
      "source": [
        "### Target: shifted Open"
      ],
      "metadata": {
        "id": "M_B00KffcFRf"
      }
    },
    {
      "cell_type": "markdown",
      "source": [
        "Il nostro obiettivo è quello di prevedere l'Open del giorno successivo a partire dall'Open del giorno corrente"
      ],
      "metadata": {
        "id": "15-RdRQLK1tm"
      }
    },
    {
      "cell_type": "code",
      "source": [
        "df['D+1 OPEN'] = df['Open'].shift(-1).copy()"
      ],
      "metadata": {
        "id": "_sbN0RmmNjC6"
      },
      "execution_count": 106,
      "outputs": []
    },
    {
      "cell_type": "code",
      "source": [
        "df.isna().sum()"
      ],
      "metadata": {
        "colab": {
          "base_uri": "https://localhost:8080/"
        },
        "id": "tnUzfkE7NpCl",
        "outputId": "b3cc4bb0-e2a2-4e57-b642-c78d261b1d25"
      },
      "execution_count": 107,
      "outputs": [
        {
          "output_type": "execute_result",
          "data": {
            "text/plain": [
              "Open        0\n",
              "High        0\n",
              "Low         0\n",
              "Close       0\n",
              "D+1 OPEN    1\n",
              "dtype: int64"
            ]
          },
          "metadata": {},
          "execution_count": 107
        }
      ]
    },
    {
      "cell_type": "code",
      "source": [
        "df = df.dropna()"
      ],
      "metadata": {
        "id": "XMFVv-0pNrRq"
      },
      "execution_count": 108,
      "outputs": []
    },
    {
      "cell_type": "markdown",
      "source": [
        "### Train_test_split"
      ],
      "metadata": {
        "id": "J2kwTNJlcNO9"
      }
    },
    {
      "cell_type": "markdown",
      "source": [
        "Come sempre splittiamo il dataset. Ma questa volta bisogna ricordarsi di non usare Shuffle=True!"
      ],
      "metadata": {
        "id": "KPB_ltuYcAMr"
      }
    },
    {
      "cell_type": "code",
      "source": [
        "from sklearn.model_selection import train_test_split\n",
        "train_df, test_df = train_test_split(df, test_size=0.2, shuffle=False)"
      ],
      "metadata": {
        "id": "i6JVE2YKH4hf"
      },
      "execution_count": 109,
      "outputs": []
    },
    {
      "cell_type": "code",
      "source": [
        "### oppure....\n",
        "train_df = df.loc[:'2018-12-31'].copy()\n",
        "test_df = df.loc['2019-01-01':].copy()"
      ],
      "metadata": {
        "id": "8xKReVu8PYxE"
      },
      "execution_count": 167,
      "outputs": []
    },
    {
      "cell_type": "code",
      "source": [
        "features = ['Open']\n",
        "X_train = train_df[features].copy()\n",
        "X_test = test_df[features].copy()"
      ],
      "metadata": {
        "id": "SMcnieBnMGYN"
      },
      "execution_count": 180,
      "outputs": []
    },
    {
      "cell_type": "code",
      "source": [
        "target_name = 'D+1 OPEN'\n",
        "y_train = train_df[target_name].copy()\n",
        "y_test = test_df[target_name].copy()"
      ],
      "metadata": {
        "id": "j8vkUjmEMVYf"
      },
      "execution_count": 181,
      "outputs": []
    },
    {
      "cell_type": "code",
      "source": [
        "X_train"
      ],
      "metadata": {
        "colab": {
          "base_uri": "https://localhost:8080/",
          "height": 479
        },
        "id": "a-Jw1awqMWBN",
        "outputId": "566afa06-f475-41fa-90a5-8d64851626f1"
      },
      "execution_count": 182,
      "outputs": [
        {
          "output_type": "execute_result",
          "data": {
            "text/plain": [
              "              Open\n",
              "Date              \n",
              "2000-01-03  405.00\n",
              "2000-01-04  397.75\n",
              "2000-01-05  350.00\n",
              "2000-01-06  362.00\n",
              "2000-01-07  369.00\n",
              "...            ...\n",
              "2018-12-24  374.10\n",
              "2018-12-26  368.80\n",
              "2018-12-27  361.00\n",
              "2018-12-28  361.80\n",
              "2018-12-31  361.90\n",
              "\n",
              "[4729 rows x 1 columns]"
            ],
            "text/html": [
              "\n",
              "  <div id=\"df-79fbbcc2-3194-433c-8c03-7299f065a282\">\n",
              "    <div class=\"colab-df-container\">\n",
              "      <div>\n",
              "<style scoped>\n",
              "    .dataframe tbody tr th:only-of-type {\n",
              "        vertical-align: middle;\n",
              "    }\n",
              "\n",
              "    .dataframe tbody tr th {\n",
              "        vertical-align: top;\n",
              "    }\n",
              "\n",
              "    .dataframe thead th {\n",
              "        text-align: right;\n",
              "    }\n",
              "</style>\n",
              "<table border=\"1\" class=\"dataframe\">\n",
              "  <thead>\n",
              "    <tr style=\"text-align: right;\">\n",
              "      <th></th>\n",
              "      <th>Open</th>\n",
              "    </tr>\n",
              "    <tr>\n",
              "      <th>Date</th>\n",
              "      <th></th>\n",
              "    </tr>\n",
              "  </thead>\n",
              "  <tbody>\n",
              "    <tr>\n",
              "      <th>2000-01-03</th>\n",
              "      <td>405.00</td>\n",
              "    </tr>\n",
              "    <tr>\n",
              "      <th>2000-01-04</th>\n",
              "      <td>397.75</td>\n",
              "    </tr>\n",
              "    <tr>\n",
              "      <th>2000-01-05</th>\n",
              "      <td>350.00</td>\n",
              "    </tr>\n",
              "    <tr>\n",
              "      <th>2000-01-06</th>\n",
              "      <td>362.00</td>\n",
              "    </tr>\n",
              "    <tr>\n",
              "      <th>2000-01-07</th>\n",
              "      <td>369.00</td>\n",
              "    </tr>\n",
              "    <tr>\n",
              "      <th>...</th>\n",
              "      <td>...</td>\n",
              "    </tr>\n",
              "    <tr>\n",
              "      <th>2018-12-24</th>\n",
              "      <td>374.10</td>\n",
              "    </tr>\n",
              "    <tr>\n",
              "      <th>2018-12-26</th>\n",
              "      <td>368.80</td>\n",
              "    </tr>\n",
              "    <tr>\n",
              "      <th>2018-12-27</th>\n",
              "      <td>361.00</td>\n",
              "    </tr>\n",
              "    <tr>\n",
              "      <th>2018-12-28</th>\n",
              "      <td>361.80</td>\n",
              "    </tr>\n",
              "    <tr>\n",
              "      <th>2018-12-31</th>\n",
              "      <td>361.90</td>\n",
              "    </tr>\n",
              "  </tbody>\n",
              "</table>\n",
              "<p>4729 rows × 1 columns</p>\n",
              "</div>\n",
              "      <button class=\"colab-df-convert\" onclick=\"convertToInteractive('df-79fbbcc2-3194-433c-8c03-7299f065a282')\"\n",
              "              title=\"Convert this dataframe to an interactive table.\"\n",
              "              style=\"display:none;\">\n",
              "        \n",
              "  <svg xmlns=\"http://www.w3.org/2000/svg\" height=\"24px\"viewBox=\"0 0 24 24\"\n",
              "       width=\"24px\">\n",
              "    <path d=\"M0 0h24v24H0V0z\" fill=\"none\"/>\n",
              "    <path d=\"M18.56 5.44l.94 2.06.94-2.06 2.06-.94-2.06-.94-.94-2.06-.94 2.06-2.06.94zm-11 1L8.5 8.5l.94-2.06 2.06-.94-2.06-.94L8.5 2.5l-.94 2.06-2.06.94zm10 10l.94 2.06.94-2.06 2.06-.94-2.06-.94-.94-2.06-.94 2.06-2.06.94z\"/><path d=\"M17.41 7.96l-1.37-1.37c-.4-.4-.92-.59-1.43-.59-.52 0-1.04.2-1.43.59L10.3 9.45l-7.72 7.72c-.78.78-.78 2.05 0 2.83L4 21.41c.39.39.9.59 1.41.59.51 0 1.02-.2 1.41-.59l7.78-7.78 2.81-2.81c.8-.78.8-2.07 0-2.86zM5.41 20L4 18.59l7.72-7.72 1.47 1.35L5.41 20z\"/>\n",
              "  </svg>\n",
              "      </button>\n",
              "      \n",
              "  <style>\n",
              "    .colab-df-container {\n",
              "      display:flex;\n",
              "      flex-wrap:wrap;\n",
              "      gap: 12px;\n",
              "    }\n",
              "\n",
              "    .colab-df-convert {\n",
              "      background-color: #E8F0FE;\n",
              "      border: none;\n",
              "      border-radius: 50%;\n",
              "      cursor: pointer;\n",
              "      display: none;\n",
              "      fill: #1967D2;\n",
              "      height: 32px;\n",
              "      padding: 0 0 0 0;\n",
              "      width: 32px;\n",
              "    }\n",
              "\n",
              "    .colab-df-convert:hover {\n",
              "      background-color: #E2EBFA;\n",
              "      box-shadow: 0px 1px 2px rgba(60, 64, 67, 0.3), 0px 1px 3px 1px rgba(60, 64, 67, 0.15);\n",
              "      fill: #174EA6;\n",
              "    }\n",
              "\n",
              "    [theme=dark] .colab-df-convert {\n",
              "      background-color: #3B4455;\n",
              "      fill: #D2E3FC;\n",
              "    }\n",
              "\n",
              "    [theme=dark] .colab-df-convert:hover {\n",
              "      background-color: #434B5C;\n",
              "      box-shadow: 0px 1px 3px 1px rgba(0, 0, 0, 0.15);\n",
              "      filter: drop-shadow(0px 1px 2px rgba(0, 0, 0, 0.3));\n",
              "      fill: #FFFFFF;\n",
              "    }\n",
              "  </style>\n",
              "\n",
              "      <script>\n",
              "        const buttonEl =\n",
              "          document.querySelector('#df-79fbbcc2-3194-433c-8c03-7299f065a282 button.colab-df-convert');\n",
              "        buttonEl.style.display =\n",
              "          google.colab.kernel.accessAllowed ? 'block' : 'none';\n",
              "\n",
              "        async function convertToInteractive(key) {\n",
              "          const element = document.querySelector('#df-79fbbcc2-3194-433c-8c03-7299f065a282');\n",
              "          const dataTable =\n",
              "            await google.colab.kernel.invokeFunction('convertToInteractive',\n",
              "                                                     [key], {});\n",
              "          if (!dataTable) return;\n",
              "\n",
              "          const docLinkHtml = 'Like what you see? Visit the ' +\n",
              "            '<a target=\"_blank\" href=https://colab.research.google.com/notebooks/data_table.ipynb>data table notebook</a>'\n",
              "            + ' to learn more about interactive tables.';\n",
              "          element.innerHTML = '';\n",
              "          dataTable['output_type'] = 'display_data';\n",
              "          await google.colab.output.renderOutput(dataTable, element);\n",
              "          const docLink = document.createElement('div');\n",
              "          docLink.innerHTML = docLinkHtml;\n",
              "          element.appendChild(docLink);\n",
              "        }\n",
              "      </script>\n",
              "    </div>\n",
              "  </div>\n",
              "  "
            ]
          },
          "metadata": {},
          "execution_count": 182
        }
      ]
    },
    {
      "cell_type": "code",
      "source": [
        "y_test"
      ],
      "metadata": {
        "colab": {
          "base_uri": "https://localhost:8080/"
        },
        "id": "4tSJ44h4MiM9",
        "outputId": "6708d1b4-5594-4c04-cac7-b6b4bc89d8b6"
      },
      "execution_count": 183,
      "outputs": [
        {
          "output_type": "execute_result",
          "data": {
            "text/plain": [
              "Date\n",
              "2019-01-01    366.0\n",
              "2019-01-02    352.0\n",
              "2019-01-03    351.8\n",
              "2019-01-04    360.0\n",
              "2019-01-07    355.1\n",
              "              ...  \n",
              "2021-04-23    426.0\n",
              "2021-04-26    417.5\n",
              "2021-04-27    422.0\n",
              "2021-04-28    422.0\n",
              "2021-04-29    417.5\n",
              "Name: D+1 OPEN, Length: 576, dtype: float64"
            ]
          },
          "metadata": {},
          "execution_count": 183
        }
      ]
    },
    {
      "cell_type": "markdown",
      "source": [
        "### RandomForestRegressor"
      ],
      "metadata": {
        "id": "Do4HLzfXcYS-"
      }
    },
    {
      "cell_type": "code",
      "source": [
        "from sklearn.ensemble import RandomForestRegressor\n",
        "from sklearn.metrics import r2_score, mean_absolute_percentage_error\n",
        "\n",
        "model = RandomForestRegressor()\n",
        "model = model.fit(X_train, y_train)\n",
        "\n",
        "train_preds = model.predict(X_train)\n",
        "test_preds = model.predict(X_test)\n",
        "\n",
        "r2_train = r2_score(y_train, train_preds)\n",
        "r2_test = r2_score(y_test, test_preds)"
      ],
      "metadata": {
        "id": "p9Zh5L7jMkMB"
      },
      "execution_count": 184,
      "outputs": []
    },
    {
      "cell_type": "code",
      "source": [
        "print(r2_train)\n",
        "print(r2_test)"
      ],
      "metadata": {
        "colab": {
          "base_uri": "https://localhost:8080/"
        },
        "id": "cTC5tgEtNRBU",
        "outputId": "7fb6cb06-6860-434f-e39b-bf2fa949e6d8"
      },
      "execution_count": 185,
      "outputs": [
        {
          "output_type": "stream",
          "name": "stdout",
          "text": [
            "0.9972562057513387\n",
            "0.9465757119292182\n"
          ]
        }
      ]
    },
    {
      "cell_type": "code",
      "source": [
        "plt.plot(df[target_name], linewidth=0.8)\n",
        "plt.plot(pd.Series(test_preds, y_test.index), linewidth=0.8),\n",
        "plt.show()"
      ],
      "metadata": {
        "colab": {
          "base_uri": "https://localhost:8080/",
          "height": 446
        },
        "id": "1gBVXh2mOLSm",
        "outputId": "e9a9bd05-32aa-47a8-e4e9-9d4cf797cb09"
      },
      "execution_count": 186,
      "outputs": [
        {
          "output_type": "display_data",
          "data": {
            "text/plain": [
              "<Figure size 640x480 with 1 Axes>"
            ],
            "image/png": "[encoded data removed]"
          },
          "metadata": {}
        }
      ]
    },
    {
      "cell_type": "code",
      "source": [
        "plt.plot(y_test)\n",
        "plt.plot(pd.Series(test_preds, y_test.index), linewidth=0.6)\n",
        "plt.xticks(rotation=90)\n",
        "plt.show()"
      ],
      "metadata": {
        "colab": {
          "base_uri": "https://localhost:8080/",
          "height": 492
        },
        "id": "a-e7Y8F5PFR2",
        "outputId": "df386e23-dc86-4ac7-d6c0-281e9d1ca238"
      },
      "execution_count": 187,
      "outputs": [
        {
          "output_type": "display_data",
          "data": {
            "text/plain": [
              "<Figure size 640x480 with 1 Axes>"
            ],
            "image/png": "[encoded data removed]"
          },
          "metadata": {}
        }
      ]
    },
    {
      "cell_type": "markdown",
      "source": [
        "Sembra piuttosto buono! In realtà però quello che davvero ci interessa è la direzione del prezzo...! Cioè, mi interessa un segnale COMPRA / VENDI che possa essere eseguito all'OPEN. Vediamo come andiamo sulla direzione"
      ],
      "metadata": {
        "id": "x9N7RtOaRauK"
      }
    },
    {
      "cell_type": "code",
      "source": [
        "test_df['preds'] = pd.Series(test_preds, index=y_test.index)"
      ],
      "metadata": {
        "id": "2jHtBMalOZt9"
      },
      "execution_count": 188,
      "outputs": []
    },
    {
      "cell_type": "code",
      "source": [
        "test_df['target_direction'] = np.sign(test_df['D+1 OPEN']-test_df['Open'])"
      ],
      "metadata": {
        "id": "61nCfoM-QA4E"
      },
      "execution_count": 189,
      "outputs": []
    },
    {
      "cell_type": "code",
      "source": [
        "test_df['pred_direction'] = np.sign(test_df['preds']-test_df['Open'])"
      ],
      "metadata": {
        "id": "Hd-xnH_2QBo8"
      },
      "execution_count": 190,
      "outputs": []
    },
    {
      "cell_type": "code",
      "source": [
        "from sklearn.metrics import accuracy_score\n",
        "\n",
        "print(accuracy_score(test_df['target_direction'],test_df['pred_direction']))"
      ],
      "metadata": {
        "colab": {
          "base_uri": "https://localhost:8080/"
        },
        "id": "zDIdcq-VQNij",
        "outputId": "c14409b0-2284-484d-c561-b56a2fdf7f63"
      },
      "execution_count": 191,
      "outputs": [
        {
          "output_type": "stream",
          "name": "stdout",
          "text": [
            "0.4635416666666667\n"
          ]
        }
      ]
    },
    {
      "cell_type": "markdown",
      "source": [
        "Malissimo!! Sarebbe quasi meglio lanciare una moneta"
      ],
      "metadata": {
        "id": "YicRCUe4SEc0"
      }
    },
    {
      "cell_type": "code",
      "source": [
        "df = pd.read_csv('BPCL.csv')\n",
        "df.index = pd.to_datetime(df['Date'])\n",
        "df = df.sort_index()\n",
        "\n",
        "target_name = 'D+1 OPEN'\n",
        "df[target_name] = df['Open'].shift(-1)\n",
        "df = df.dropna()"
      ],
      "metadata": {
        "id": "mu0NgWj2UkCC"
      },
      "execution_count": 211,
      "outputs": []
    },
    {
      "cell_type": "code",
      "source": [
        "df['OPEN D-1'] = df['Open'].rolling(3).mean()\n",
        "df['OPEN D-3'] = df['Open'].rolling(7).mean()\n",
        "df['OPEN D-7'] = df['Open'].rolling(30).mean()\n",
        "\n",
        "df = df.dropna()"
      ],
      "metadata": {
        "id": "irC04EbsSwav"
      },
      "execution_count": 212,
      "outputs": []
    },
    {
      "cell_type": "code",
      "source": [
        "train_df = df.loc[:'2018-12-31'].copy()\n",
        "test_df = df.loc['2019-01-01':].copy()"
      ],
      "metadata": {
        "id": "4YvE8k43TVp5"
      },
      "execution_count": 213,
      "outputs": []
    },
    {
      "cell_type": "code",
      "source": [
        "features = ['Open','OPEN D-1','OPEN D-3','OPEN D-7']\n",
        "X_train = train_df[features].copy()\n",
        "X_test = test_df[features].copy()\n",
        "\n",
        "y_train = train_df[target_name].copy()\n",
        "y_test = test_df[target_name].copy()"
      ],
      "metadata": {
        "id": "fKyV0sX-Q2UR"
      },
      "execution_count": 214,
      "outputs": []
    },
    {
      "cell_type": "code",
      "source": [
        "from sklearn.ensemble import RandomForestRegressor\n",
        "from sklearn.metrics import r2_score, mean_absolute_percentage_error\n",
        "\n",
        "model = RandomForestRegressor()\n",
        "model = model.fit(X_train, y_train)\n",
        "\n",
        "train_preds = model.predict(X_train)\n",
        "test_preds = model.predict(X_test)\n",
        "\n",
        "r2_train = r2_score(y_train, train_preds)\n",
        "r2_test = r2_score(y_test, test_preds)\n",
        "\n",
        "print(r2_train)\n",
        "print(r2_test)\n",
        "\n",
        "test_df['preds'] = pd.Series(test_preds, index=y_test.index)\n",
        "test_df['target_direction'] = np.sign(test_df['D+1 OPEN']-test_df['Open'])\n",
        "test_df['pred_direction'] = np.sign(test_df['preds']-test_df['Open'])\n",
        "\n",
        "from sklearn.metrics import accuracy_score\n",
        "print(accuracy_score(test_df['target_direction'],test_df['pred_direction']))"
      ],
      "metadata": {
        "colab": {
          "base_uri": "https://localhost:8080/"
        },
        "id": "OF6MCs70TOlK",
        "outputId": "8ff458b4-5d81-456b-ed01-76044528c7e2"
      },
      "execution_count": 215,
      "outputs": [
        {
          "output_type": "stream",
          "name": "stdout",
          "text": [
            "0.9980952766257393\n",
            "0.9553501857752416\n",
            "0.484375\n"
          ]
        }
      ]
    },
    {
      "cell_type": "code",
      "source": [
        "X_train"
      ],
      "metadata": {
        "colab": {
          "base_uri": "https://localhost:8080/",
          "height": 479
        },
        "id": "kpOWUIGTTneV",
        "outputId": "16bb8f90-a9f0-4ca9-ecd7-19358fd756b5"
      },
      "execution_count": 202,
      "outputs": [
        {
          "output_type": "execute_result",
          "data": {
            "text/plain": [
              "              Open  OPEN D-1  OPEN D-3  OPEN D-7  OPEN D-7\n",
              "Date                                                      \n",
              "2000-01-21  372.50     376.0     375.0    380.00    380.00\n",
              "2000-01-24  385.00     372.5     381.3    380.00    380.00\n",
              "2000-01-25  350.00     385.0     376.0    378.00    378.00\n",
              "2000-01-27  355.00     350.0     372.5    379.00    379.00\n",
              "2000-01-28  337.35     355.0     385.0    375.00    375.00\n",
              "...            ...       ...       ...       ...       ...\n",
              "2018-12-24  374.10     374.7     358.4    329.75    329.75\n",
              "2018-12-26  368.80     374.1     357.0    334.65    334.65\n",
              "2018-12-27  361.00     368.8     374.7    345.00    345.00\n",
              "2018-12-28  361.80     361.0     374.1    353.10    353.10\n",
              "2018-12-31  361.90     361.8     368.8    358.40    358.40\n",
              "\n",
              "[4715 rows x 5 columns]"
            ],
            "text/html": [
              "\n",
              "  <div id=\"df-db5ecc79-7197-4a3e-ad71-4ce3bc495a15\">\n",
              "    <div class=\"colab-df-container\">\n",
              "      <div>\n",
              "<style scoped>\n",
              "    .dataframe tbody tr th:only-of-type {\n",
              "        vertical-align: middle;\n",
              "    }\n",
              "\n",
              "    .dataframe tbody tr th {\n",
              "        vertical-align: top;\n",
              "    }\n",
              "\n",
              "    .dataframe thead th {\n",
              "        text-align: right;\n",
              "    }\n",
              "</style>\n",
              "<table border=\"1\" class=\"dataframe\">\n",
              "  <thead>\n",
              "    <tr style=\"text-align: right;\">\n",
              "      <th></th>\n",
              "      <th>Open</th>\n",
              "      <th>OPEN D-1</th>\n",
              "      <th>OPEN D-3</th>\n",
              "      <th>OPEN D-7</th>\n",
              "      <th>OPEN D-7</th>\n",
              "    </tr>\n",
              "    <tr>\n",
              "      <th>Date</th>\n",
              "      <th></th>\n",
              "      <th></th>\n",
              "      <th></th>\n",
              "      <th></th>\n",
              "      <th></th>\n",
              "    </tr>\n",
              "  </thead>\n",
              "  <tbody>\n",
              "    <tr>\n",
              "      <th>2000-01-21</th>\n",
              "      <td>372.50</td>\n",
              "      <td>376.0</td>\n",
              "      <td>375.0</td>\n",
              "      <td>380.00</td>\n",
              "      <td>380.00</td>\n",
              "    </tr>\n",
              "    <tr>\n",
              "      <th>2000-01-24</th>\n",
              "      <td>385.00</td>\n",
              "      <td>372.5</td>\n",
              "      <td>381.3</td>\n",
              "      <td>380.00</td>\n",
              "      <td>380.00</td>\n",
              "    </tr>\n",
              "    <tr>\n",
              "      <th>2000-01-25</th>\n",
              "      <td>350.00</td>\n",
              "      <td>385.0</td>\n",
              "      <td>376.0</td>\n",
              "      <td>378.00</td>\n",
              "      <td>378.00</td>\n",
              "    </tr>\n",
              "    <tr>\n",
              "      <th>2000-01-27</th>\n",
              "      <td>355.00</td>\n",
              "      <td>350.0</td>\n",
              "      <td>372.5</td>\n",
              "      <td>379.00</td>\n",
              "      <td>379.00</td>\n",
              "    </tr>\n",
              "    <tr>\n",
              "      <th>2000-01-28</th>\n",
              "      <td>337.35</td>\n",
              "      <td>355.0</td>\n",
              "      <td>385.0</td>\n",
              "      <td>375.00</td>\n",
              "      <td>375.00</td>\n",
              "    </tr>\n",
              "    <tr>\n",
              "      <th>...</th>\n",
              "      <td>...</td>\n",
              "      <td>...</td>\n",
              "      <td>...</td>\n",
              "      <td>...</td>\n",
              "      <td>...</td>\n",
              "    </tr>\n",
              "    <tr>\n",
              "      <th>2018-12-24</th>\n",
              "      <td>374.10</td>\n",
              "      <td>374.7</td>\n",
              "      <td>358.4</td>\n",
              "      <td>329.75</td>\n",
              "      <td>329.75</td>\n",
              "    </tr>\n",
              "    <tr>\n",
              "      <th>2018-12-26</th>\n",
              "      <td>368.80</td>\n",
              "      <td>374.1</td>\n",
              "      <td>357.0</td>\n",
              "      <td>334.65</td>\n",
              "      <td>334.65</td>\n",
              "    </tr>\n",
              "    <tr>\n",
              "      <th>2018-12-27</th>\n",
              "      <td>361.00</td>\n",
              "      <td>368.8</td>\n",
              "      <td>374.7</td>\n",
              "      <td>345.00</td>\n",
              "      <td>345.00</td>\n",
              "    </tr>\n",
              "    <tr>\n",
              "      <th>2018-12-28</th>\n",
              "      <td>361.80</td>\n",
              "      <td>361.0</td>\n",
              "      <td>374.1</td>\n",
              "      <td>353.10</td>\n",
              "      <td>353.10</td>\n",
              "    </tr>\n",
              "    <tr>\n",
              "      <th>2018-12-31</th>\n",
              "      <td>361.90</td>\n",
              "      <td>361.8</td>\n",
              "      <td>368.8</td>\n",
              "      <td>358.40</td>\n",
              "      <td>358.40</td>\n",
              "    </tr>\n",
              "  </tbody>\n",
              "</table>\n",
              "<p>4715 rows × 5 columns</p>\n",
              "</div>\n",
              "      <button class=\"colab-df-convert\" onclick=\"convertToInteractive('df-db5ecc79-7197-4a3e-ad71-4ce3bc495a15')\"\n",
              "              title=\"Convert this dataframe to an interactive table.\"\n",
              "              style=\"display:none;\">\n",
              "        \n",
              "  <svg xmlns=\"http://www.w3.org/2000/svg\" height=\"24px\"viewBox=\"0 0 24 24\"\n",
              "       width=\"24px\">\n",
              "    <path d=\"M0 0h24v24H0V0z\" fill=\"none\"/>\n",
              "    <path d=\"M18.56 5.44l.94 2.06.94-2.06 2.06-.94-2.06-.94-.94-2.06-.94 2.06-2.06.94zm-11 1L8.5 8.5l.94-2.06 2.06-.94-2.06-.94L8.5 2.5l-.94 2.06-2.06.94zm10 10l.94 2.06.94-2.06 2.06-.94-2.06-.94-.94-2.06-.94 2.06-2.06.94z\"/><path d=\"M17.41 7.96l-1.37-1.37c-.4-.4-.92-.59-1.43-.59-.52 0-1.04.2-1.43.59L10.3 9.45l-7.72 7.72c-.78.78-.78 2.05 0 2.83L4 21.41c.39.39.9.59 1.41.59.51 0 1.02-.2 1.41-.59l7.78-7.78 2.81-2.81c.8-.78.8-2.07 0-2.86zM5.41 20L4 18.59l7.72-7.72 1.47 1.35L5.41 20z\"/>\n",
              "  </svg>\n",
              "      </button>\n",
              "      \n",
              "  <style>\n",
              "    .colab-df-container {\n",
              "      display:flex;\n",
              "      flex-wrap:wrap;\n",
              "      gap: 12px;\n",
              "    }\n",
              "\n",
              "    .colab-df-convert {\n",
              "      background-color: #E8F0FE;\n",
              "      border: none;\n",
              "      border-radius: 50%;\n",
              "      cursor: pointer;\n",
              "      display: none;\n",
              "      fill: #1967D2;\n",
              "      height: 32px;\n",
              "      padding: 0 0 0 0;\n",
              "      width: 32px;\n",
              "    }\n",
              "\n",
              "    .colab-df-convert:hover {\n",
              "      background-color: #E2EBFA;\n",
              "      box-shadow: 0px 1px 2px rgba(60, 64, 67, 0.3), 0px 1px 3px 1px rgba(60, 64, 67, 0.15);\n",
              "      fill: #174EA6;\n",
              "    }\n",
              "\n",
              "    [theme=dark] .colab-df-convert {\n",
              "      background-color: #3B4455;\n",
              "      fill: #D2E3FC;\n",
              "    }\n",
              "\n",
              "    [theme=dark] .colab-df-convert:hover {\n",
              "      background-color: #434B5C;\n",
              "      box-shadow: 0px 1px 3px 1px rgba(0, 0, 0, 0.15);\n",
              "      filter: drop-shadow(0px 1px 2px rgba(0, 0, 0, 0.3));\n",
              "      fill: #FFFFFF;\n",
              "    }\n",
              "  </style>\n",
              "\n",
              "      <script>\n",
              "        const buttonEl =\n",
              "          document.querySelector('#df-db5ecc79-7197-4a3e-ad71-4ce3bc495a15 button.colab-df-convert');\n",
              "        buttonEl.style.display =\n",
              "          google.colab.kernel.accessAllowed ? 'block' : 'none';\n",
              "\n",
              "        async function convertToInteractive(key) {\n",
              "          const element = document.querySelector('#df-db5ecc79-7197-4a3e-ad71-4ce3bc495a15');\n",
              "          const dataTable =\n",
              "            await google.colab.kernel.invokeFunction('convertToInteractive',\n",
              "                                                     [key], {});\n",
              "          if (!dataTable) return;\n",
              "\n",
              "          const docLinkHtml = 'Like what you see? Visit the ' +\n",
              "            '<a target=\"_blank\" href=https://colab.research.google.com/notebooks/data_table.ipynb>data table notebook</a>'\n",
              "            + ' to learn more about interactive tables.';\n",
              "          element.innerHTML = '';\n",
              "          dataTable['output_type'] = 'display_data';\n",
              "          await google.colab.output.renderOutput(dataTable, element);\n",
              "          const docLink = document.createElement('div');\n",
              "          docLink.innerHTML = docLinkHtml;\n",
              "          element.appendChild(docLink);\n",
              "        }\n",
              "      </script>\n",
              "    </div>\n",
              "  </div>\n",
              "  "
            ]
          },
          "metadata": {},
          "execution_count": 202
        }
      ]
    },
    {
      "cell_type": "markdown",
      "source": [
        "# PROPHET"
      ],
      "metadata": {
        "id": "97RtR1knZHnm"
      }
    },
    {
      "cell_type": "code",
      "source": [
        "## preparo i dati per Prophet (deve essere un DataFrame con colonne ['ds','y'])\n",
        "\n",
        "df = pd.read_csv('BPCL.csv')\n",
        "df.index = pd.to_datetime(df['Date'])\n",
        "df = df.sort_index()\n",
        "\n",
        "df['ds'] = df.index\n",
        "df['y'] = df['Open'].copy()\n",
        "\n",
        "train_df = df[['ds','y']].loc[:'2018-12-31'].copy()\n",
        "test_df = df[['ds','y']].loc['2019-01-01':].copy()\n",
        "\n",
        "from fbprophet import Prophet\n",
        "model = Prophet(weekly_seasonality=True) # the Prophet class (model)\n",
        "model.fit(train_df) # fit the model using all data"
      ],
      "metadata": {
        "colab": {
          "base_uri": "https://localhost:8080/"
        },
        "id": "zPiZNfokTwaj",
        "outputId": "2be0f973-8b6e-411d-8380-6fd45c250b28"
      },
      "execution_count": 262,
      "outputs": [
        {
          "output_type": "stream",
          "name": "stderr",
          "text": [
            "INFO:fbprophet:Disabling daily seasonality. Run prophet with daily_seasonality=True to override this.\n"
          ]
        },
        {
          "output_type": "execute_result",
          "data": {
            "text/plain": [
              "<fbprophet.forecaster.Prophet at 0x7fdb438fd110>"
            ]
          },
          "metadata": {},
          "execution_count": 262
        }
      ]
    },
    {
      "cell_type": "code",
      "source": [
        "test_preds_df = model.predict(test_df)"
      ],
      "metadata": {
        "id": "STDVna-9VGtd"
      },
      "execution_count": 263,
      "outputs": []
    },
    {
      "cell_type": "code",
      "source": [
        "test_preds_df"
      ],
      "metadata": {
        "colab": {
          "base_uri": "https://localhost:8080/",
          "height": 667
        },
        "id": "OqM6RW-4V2zt",
        "outputId": "069a823b-0c8e-4f26-fd61-33a46132ec98"
      },
      "execution_count": 264,
      "outputs": [
        {
          "output_type": "execute_result",
          "data": {
            "text/plain": [
              "            ds       trend  yhat_lower  yhat_upper  trend_lower  trend_upper  \\\n",
              "0   2019-01-01  359.992542  283.777229  456.757323   359.992542   359.992542   \n",
              "1   2019-01-02  359.604597  277.329591  449.698176   359.604597   359.604597   \n",
              "2   2019-01-03  359.216651  273.634388  456.193505   359.216651   359.216651   \n",
              "3   2019-01-04  358.828705  274.324141  447.458033   358.828705   358.828705   \n",
              "4   2019-01-07  357.664868  276.814603  452.701782   357.664868   357.664868   \n",
              "..         ...         ...         ...         ...          ...          ...   \n",
              "572 2021-04-26   31.790527 -253.768122  374.497449  -253.410932   340.428185   \n",
              "573 2021-04-27   31.402582 -258.698182  372.623270  -254.893399   340.791506   \n",
              "574 2021-04-28   31.014636 -263.722980  375.708609  -256.375866   340.895412   \n",
              "575 2021-04-29   30.626691 -262.090607  379.404009  -257.858333   340.576305   \n",
              "576 2021-04-30   30.238745 -271.636088  381.116107  -259.240765   340.371541   \n",
              "\n",
              "     additive_terms  additive_terms_lower  additive_terms_upper    weekly  \\\n",
              "0          6.240512              6.240512              6.240512  1.819934   \n",
              "1          5.466717              5.466717              5.466717  0.484435   \n",
              "2          5.564471              5.564471              5.564471  0.066398   \n",
              "3          6.003820              6.003820              6.003820  0.043875   \n",
              "4          8.310461              8.310461              8.310461  1.345292   \n",
              "..              ...                   ...                   ...       ...   \n",
              "572       19.161193             19.161193             19.161193  1.345292   \n",
              "573       19.137704             19.137704             19.137704  1.819934   \n",
              "574       17.286303             17.286303             17.286303  0.484435   \n",
              "575       16.350498             16.350498             16.350498  0.066398   \n",
              "576       15.824299             15.824299             15.824299  0.043875   \n",
              "\n",
              "     weekly_lower  weekly_upper     yearly  yearly_lower  yearly_upper  \\\n",
              "0        1.819934      1.819934   4.420578      4.420578      4.420578   \n",
              "1        0.484435      0.484435   4.982282      4.982282      4.982282   \n",
              "2        0.066398      0.066398   5.498073      5.498073      5.498073   \n",
              "3        0.043875      0.043875   5.959945      5.959945      5.959945   \n",
              "4        1.345292      1.345292   6.965169      6.965169      6.965169   \n",
              "..            ...           ...        ...           ...           ...   \n",
              "572      1.345292      1.345292  17.815901     17.815901     17.815901   \n",
              "573      1.819934      1.819934  17.317770     17.317770     17.317770   \n",
              "574      0.484435      0.484435  16.801868     16.801868     16.801868   \n",
              "575      0.066398      0.066398  16.284100     16.284100     16.284100   \n",
              "576      0.043875      0.043875  15.780424     15.780424     15.780424   \n",
              "\n",
              "     multiplicative_terms  multiplicative_terms_lower  \\\n",
              "0                     0.0                         0.0   \n",
              "1                     0.0                         0.0   \n",
              "2                     0.0                         0.0   \n",
              "3                     0.0                         0.0   \n",
              "4                     0.0                         0.0   \n",
              "..                    ...                         ...   \n",
              "572                   0.0                         0.0   \n",
              "573                   0.0                         0.0   \n",
              "574                   0.0                         0.0   \n",
              "575                   0.0                         0.0   \n",
              "576                   0.0                         0.0   \n",
              "\n",
              "     multiplicative_terms_upper        yhat  \n",
              "0                           0.0  366.233054  \n",
              "1                           0.0  365.071314  \n",
              "2                           0.0  364.781122  \n",
              "3                           0.0  364.832525  \n",
              "4                           0.0  365.975329  \n",
              "..                          ...         ...  \n",
              "572                         0.0   50.951720  \n",
              "573                         0.0   50.540286  \n",
              "574                         0.0   48.300939  \n",
              "575                         0.0   46.977188  \n",
              "576                         0.0   46.063044  \n",
              "\n",
              "[577 rows x 19 columns]"
            ],
            "text/html": [
              "\n",
              "  <div id=\"df-7b771852-61b1-4416-bf7f-e015cc27e8c9\">\n",
              "    <div class=\"colab-df-container\">\n",
              "      <div>\n",
              "<style scoped>\n",
              "    .dataframe tbody tr th:only-of-type {\n",
              "        vertical-align: middle;\n",
              "    }\n",
              "\n",
              "    .dataframe tbody tr th {\n",
              "        vertical-align: top;\n",
              "    }\n",
              "\n",
              "    .dataframe thead th {\n",
              "        text-align: right;\n",
              "    }\n",
              "</style>\n",
              "<table border=\"1\" class=\"dataframe\">\n",
              "  <thead>\n",
              "    <tr style=\"text-align: right;\">\n",
              "      <th></th>\n",
              "      <th>ds</th>\n",
              "      <th>trend</th>\n",
              "      <th>yhat_lower</th>\n",
              "      <th>yhat_upper</th>\n",
              "      <th>trend_lower</th>\n",
              "      <th>trend_upper</th>\n",
              "      <th>additive_terms</th>\n",
              "      <th>additive_terms_lower</th>\n",
              "      <th>additive_terms_upper</th>\n",
              "      <th>weekly</th>\n",
              "      <th>weekly_lower</th>\n",
              "      <th>weekly_upper</th>\n",
              "      <th>yearly</th>\n",
              "      <th>yearly_lower</th>\n",
              "      <th>yearly_upper</th>\n",
              "      <th>multiplicative_terms</th>\n",
              "      <th>multiplicative_terms_lower</th>\n",
              "      <th>multiplicative_terms_upper</th>\n",
              "      <th>yhat</th>\n",
              "    </tr>\n",
              "  </thead>\n",
              "  <tbody>\n",
              "    <tr>\n",
              "      <th>0</th>\n",
              "      <td>2019-01-01</td>\n",
              "      <td>359.992542</td>\n",
              "      <td>283.777229</td>\n",
              "      <td>456.757323</td>\n",
              "      <td>359.992542</td>\n",
              "      <td>359.992542</td>\n",
              "      <td>6.240512</td>\n",
              "      <td>6.240512</td>\n",
              "      <td>6.240512</td>\n",
              "      <td>1.819934</td>\n",
              "      <td>1.819934</td>\n",
              "      <td>1.819934</td>\n",
              "      <td>4.420578</td>\n",
              "      <td>4.420578</td>\n",
              "      <td>4.420578</td>\n",
              "      <td>0.0</td>\n",
              "      <td>0.0</td>\n",
              "      <td>0.0</td>\n",
              "      <td>366.233054</td>\n",
              "    </tr>\n",
              "    <tr>\n",
              "      <th>1</th>\n",
              "      <td>2019-01-02</td>\n",
              "      <td>359.604597</td>\n",
              "      <td>277.329591</td>\n",
              "      <td>449.698176</td>\n",
              "      <td>359.604597</td>\n",
              "      <td>359.604597</td>\n",
              "      <td>5.466717</td>\n",
              "      <td>5.466717</td>\n",
              "      <td>5.466717</td>\n",
              "      <td>0.484435</td>\n",
              "      <td>0.484435</td>\n",
              "      <td>0.484435</td>\n",
              "      <td>4.982282</td>\n",
              "      <td>4.982282</td>\n",
              "      <td>4.982282</td>\n",
              "      <td>0.0</td>\n",
              "      <td>0.0</td>\n",
              "      <td>0.0</td>\n",
              "      <td>365.071314</td>\n",
              "    </tr>\n",
              "    <tr>\n",
              "      <th>2</th>\n",
              "      <td>2019-01-03</td>\n",
              "      <td>359.216651</td>\n",
              "      <td>273.634388</td>\n",
              "      <td>456.193505</td>\n",
              "      <td>359.216651</td>\n",
              "      <td>359.216651</td>\n",
              "      <td>5.564471</td>\n",
              "      <td>5.564471</td>\n",
              "      <td>5.564471</td>\n",
              "      <td>0.066398</td>\n",
              "      <td>0.066398</td>\n",
              "      <td>0.066398</td>\n",
              "      <td>5.498073</td>\n",
              "      <td>5.498073</td>\n",
              "      <td>5.498073</td>\n",
              "      <td>0.0</td>\n",
              "      <td>0.0</td>\n",
              "      <td>0.0</td>\n",
              "      <td>364.781122</td>\n",
              "    </tr>\n",
              "    <tr>\n",
              "      <th>3</th>\n",
              "      <td>2019-01-04</td>\n",
              "      <td>358.828705</td>\n",
              "      <td>274.324141</td>\n",
              "      <td>447.458033</td>\n",
              "      <td>358.828705</td>\n",
              "      <td>358.828705</td>\n",
              "      <td>6.003820</td>\n",
              "      <td>6.003820</td>\n",
              "      <td>6.003820</td>\n",
              "      <td>0.043875</td>\n",
              "      <td>0.043875</td>\n",
              "      <td>0.043875</td>\n",
              "      <td>5.959945</td>\n",
              "      <td>5.959945</td>\n",
              "      <td>5.959945</td>\n",
              "      <td>0.0</td>\n",
              "      <td>0.0</td>\n",
              "      <td>0.0</td>\n",
              "      <td>364.832525</td>\n",
              "    </tr>\n",
              "    <tr>\n",
              "      <th>4</th>\n",
              "      <td>2019-01-07</td>\n",
              "      <td>357.664868</td>\n",
              "      <td>276.814603</td>\n",
              "      <td>452.701782</td>\n",
              "      <td>357.664868</td>\n",
              "      <td>357.664868</td>\n",
              "      <td>8.310461</td>\n",
              "      <td>8.310461</td>\n",
              "      <td>8.310461</td>\n",
              "      <td>1.345292</td>\n",
              "      <td>1.345292</td>\n",
              "      <td>1.345292</td>\n",
              "      <td>6.965169</td>\n",
              "      <td>6.965169</td>\n",
              "      <td>6.965169</td>\n",
              "      <td>0.0</td>\n",
              "      <td>0.0</td>\n",
              "      <td>0.0</td>\n",
              "      <td>365.975329</td>\n",
              "    </tr>\n",
              "    <tr>\n",
              "      <th>...</th>\n",
              "      <td>...</td>\n",
              "      <td>...</td>\n",
              "      <td>...</td>\n",
              "      <td>...</td>\n",
              "      <td>...</td>\n",
              "      <td>...</td>\n",
              "      <td>...</td>\n",
              "      <td>...</td>\n",
              "      <td>...</td>\n",
              "      <td>...</td>\n",
              "      <td>...</td>\n",
              "      <td>...</td>\n",
              "      <td>...</td>\n",
              "      <td>...</td>\n",
              "      <td>...</td>\n",
              "      <td>...</td>\n",
              "      <td>...</td>\n",
              "      <td>...</td>\n",
              "      <td>...</td>\n",
              "    </tr>\n",
              "    <tr>\n",
              "      <th>572</th>\n",
              "      <td>2021-04-26</td>\n",
              "      <td>31.790527</td>\n",
              "      <td>-253.768122</td>\n",
              "      <td>374.497449</td>\n",
              "      <td>-253.410932</td>\n",
              "      <td>340.428185</td>\n",
              "      <td>19.161193</td>\n",
              "      <td>19.161193</td>\n",
              "      <td>19.161193</td>\n",
              "      <td>1.345292</td>\n",
              "      <td>1.345292</td>\n",
              "      <td>1.345292</td>\n",
              "      <td>17.815901</td>\n",
              "      <td>17.815901</td>\n",
              "      <td>17.815901</td>\n",
              "      <td>0.0</td>\n",
              "      <td>0.0</td>\n",
              "      <td>0.0</td>\n",
              "      <td>50.951720</td>\n",
              "    </tr>\n",
              "    <tr>\n",
              "      <th>573</th>\n",
              "      <td>2021-04-27</td>\n",
              "      <td>31.402582</td>\n",
              "      <td>-258.698182</td>\n",
              "      <td>372.623270</td>\n",
              "      <td>-254.893399</td>\n",
              "      <td>340.791506</td>\n",
              "      <td>19.137704</td>\n",
              "      <td>19.137704</td>\n",
              "      <td>19.137704</td>\n",
              "      <td>1.819934</td>\n",
              "      <td>1.819934</td>\n",
              "      <td>1.819934</td>\n",
              "      <td>17.317770</td>\n",
              "      <td>17.317770</td>\n",
              "      <td>17.317770</td>\n",
              "      <td>0.0</td>\n",
              "      <td>0.0</td>\n",
              "      <td>0.0</td>\n",
              "      <td>50.540286</td>\n",
              "    </tr>\n",
              "    <tr>\n",
              "      <th>574</th>\n",
              "      <td>2021-04-28</td>\n",
              "      <td>31.014636</td>\n",
              "      <td>-263.722980</td>\n",
              "      <td>375.708609</td>\n",
              "      <td>-256.375866</td>\n",
              "      <td>340.895412</td>\n",
              "      <td>17.286303</td>\n",
              "      <td>17.286303</td>\n",
              "      <td>17.286303</td>\n",
              "      <td>0.484435</td>\n",
              "      <td>0.484435</td>\n",
              "      <td>0.484435</td>\n",
              "      <td>16.801868</td>\n",
              "      <td>16.801868</td>\n",
              "      <td>16.801868</td>\n",
              "      <td>0.0</td>\n",
              "      <td>0.0</td>\n",
              "      <td>0.0</td>\n",
              "      <td>48.300939</td>\n",
              "    </tr>\n",
              "    <tr>\n",
              "      <th>575</th>\n",
              "      <td>2021-04-29</td>\n",
              "      <td>30.626691</td>\n",
              "      <td>-262.090607</td>\n",
              "      <td>379.404009</td>\n",
              "      <td>-257.858333</td>\n",
              "      <td>340.576305</td>\n",
              "      <td>16.350498</td>\n",
              "      <td>16.350498</td>\n",
              "      <td>16.350498</td>\n",
              "      <td>0.066398</td>\n",
              "      <td>0.066398</td>\n",
              "      <td>0.066398</td>\n",
              "      <td>16.284100</td>\n",
              "      <td>16.284100</td>\n",
              "      <td>16.284100</td>\n",
              "      <td>0.0</td>\n",
              "      <td>0.0</td>\n",
              "      <td>0.0</td>\n",
              "      <td>46.977188</td>\n",
              "    </tr>\n",
              "    <tr>\n",
              "      <th>576</th>\n",
              "      <td>2021-04-30</td>\n",
              "      <td>30.238745</td>\n",
              "      <td>-271.636088</td>\n",
              "      <td>381.116107</td>\n",
              "      <td>-259.240765</td>\n",
              "      <td>340.371541</td>\n",
              "      <td>15.824299</td>\n",
              "      <td>15.824299</td>\n",
              "      <td>15.824299</td>\n",
              "      <td>0.043875</td>\n",
              "      <td>0.043875</td>\n",
              "      <td>0.043875</td>\n",
              "      <td>15.780424</td>\n",
              "      <td>15.780424</td>\n",
              "      <td>15.780424</td>\n",
              "      <td>0.0</td>\n",
              "      <td>0.0</td>\n",
              "      <td>0.0</td>\n",
              "      <td>46.063044</td>\n",
              "    </tr>\n",
              "  </tbody>\n",
              "</table>\n",
              "<p>577 rows × 19 columns</p>\n",
              "</div>\n",
              "      <button class=\"colab-df-convert\" onclick=\"convertToInteractive('df-7b771852-61b1-4416-bf7f-e015cc27e8c9')\"\n",
              "              title=\"Convert this dataframe to an interactive table.\"\n",
              "              style=\"display:none;\">\n",
              "        \n",
              "  <svg xmlns=\"http://www.w3.org/2000/svg\" height=\"24px\"viewBox=\"0 0 24 24\"\n",
              "       width=\"24px\">\n",
              "    <path d=\"M0 0h24v24H0V0z\" fill=\"none\"/>\n",
              "    <path d=\"M18.56 5.44l.94 2.06.94-2.06 2.06-.94-2.06-.94-.94-2.06-.94 2.06-2.06.94zm-11 1L8.5 8.5l.94-2.06 2.06-.94-2.06-.94L8.5 2.5l-.94 2.06-2.06.94zm10 10l.94 2.06.94-2.06 2.06-.94-2.06-.94-.94-2.06-.94 2.06-2.06.94z\"/><path d=\"M17.41 7.96l-1.37-1.37c-.4-.4-.92-.59-1.43-.59-.52 0-1.04.2-1.43.59L10.3 9.45l-7.72 7.72c-.78.78-.78 2.05 0 2.83L4 21.41c.39.39.9.59 1.41.59.51 0 1.02-.2 1.41-.59l7.78-7.78 2.81-2.81c.8-.78.8-2.07 0-2.86zM5.41 20L4 18.59l7.72-7.72 1.47 1.35L5.41 20z\"/>\n",
              "  </svg>\n",
              "      </button>\n",
              "      \n",
              "  <style>\n",
              "    .colab-df-container {\n",
              "      display:flex;\n",
              "      flex-wrap:wrap;\n",
              "      gap: 12px;\n",
              "    }\n",
              "\n",
              "    .colab-df-convert {\n",
              "      background-color: #E8F0FE;\n",
              "      border: none;\n",
              "      border-radius: 50%;\n",
              "      cursor: pointer;\n",
              "      display: none;\n",
              "      fill: #1967D2;\n",
              "      height: 32px;\n",
              "      padding: 0 0 0 0;\n",
              "      width: 32px;\n",
              "    }\n",
              "\n",
              "    .colab-df-convert:hover {\n",
              "      background-color: #E2EBFA;\n",
              "      box-shadow: 0px 1px 2px rgba(60, 64, 67, 0.3), 0px 1px 3px 1px rgba(60, 64, 67, 0.15);\n",
              "      fill: #174EA6;\n",
              "    }\n",
              "\n",
              "    [theme=dark] .colab-df-convert {\n",
              "      background-color: #3B4455;\n",
              "      fill: #D2E3FC;\n",
              "    }\n",
              "\n",
              "    [theme=dark] .colab-df-convert:hover {\n",
              "      background-color: #434B5C;\n",
              "      box-shadow: 0px 1px 3px 1px rgba(0, 0, 0, 0.15);\n",
              "      filter: drop-shadow(0px 1px 2px rgba(0, 0, 0, 0.3));\n",
              "      fill: #FFFFFF;\n",
              "    }\n",
              "  </style>\n",
              "\n",
              "      <script>\n",
              "        const buttonEl =\n",
              "          document.querySelector('#df-7b771852-61b1-4416-bf7f-e015cc27e8c9 button.colab-df-convert');\n",
              "        buttonEl.style.display =\n",
              "          google.colab.kernel.accessAllowed ? 'block' : 'none';\n",
              "\n",
              "        async function convertToInteractive(key) {\n",
              "          const element = document.querySelector('#df-7b771852-61b1-4416-bf7f-e015cc27e8c9');\n",
              "          const dataTable =\n",
              "            await google.colab.kernel.invokeFunction('convertToInteractive',\n",
              "                                                     [key], {});\n",
              "          if (!dataTable) return;\n",
              "\n",
              "          const docLinkHtml = 'Like what you see? Visit the ' +\n",
              "            '<a target=\"_blank\" href=https://colab.research.google.com/notebooks/data_table.ipynb>data table notebook</a>'\n",
              "            + ' to learn more about interactive tables.';\n",
              "          element.innerHTML = '';\n",
              "          dataTable['output_type'] = 'display_data';\n",
              "          await google.colab.output.renderOutput(dataTable, element);\n",
              "          const docLink = document.createElement('div');\n",
              "          docLink.innerHTML = docLinkHtml;\n",
              "          element.appendChild(docLink);\n",
              "        }\n",
              "      </script>\n",
              "    </div>\n",
              "  </div>\n",
              "  "
            ]
          },
          "metadata": {},
          "execution_count": 264
        }
      ]
    },
    {
      "cell_type": "code",
      "source": [
        "model.plot(test_preds_df)\n",
        "plt.xlabel(\"Date\")\n",
        "plt.ylabel(\"Open Price\")\n",
        "plt.show()"
      ],
      "metadata": {
        "colab": {
          "base_uri": "https://localhost:8080/",
          "height": 455
        },
        "id": "vPJAfVKQW45R",
        "outputId": "b7d11e1a-a40d-4eec-e7c6-a23b684622fc"
      },
      "execution_count": 281,
      "outputs": [
        {
          "output_type": "display_data",
          "data": {
            "text/plain": [
              "<Figure size 1000x600 with 1 Axes>"
            ],
            "image/png": "[encoded data removed]"
          },
          "metadata": {}
        }
      ]
    },
    {
      "cell_type": "code",
      "source": [
        "model.plot(test_preds_df)\n",
        "plt.scatter(x=test_df.index, y=test_df['y'], s=5, c='k')\n",
        "\n",
        "plt.xlabel(\"Date\")\n",
        "plt.ylabel(\"Open Price\")\n",
        "plt.show()"
      ],
      "metadata": {
        "colab": {
          "base_uri": "https://localhost:8080/",
          "height": 455
        },
        "id": "-A4AdznvbBaj",
        "outputId": "cf38e1fa-9139-496d-8850-4569c817391a"
      },
      "execution_count": 284,
      "outputs": [
        {
          "output_type": "display_data",
          "data": {
            "text/plain": [
              "<Figure size 1000x600 with 1 Axes>"
            ],
            "image/png": "[encoded data removed]"
          },
          "metadata": {}
        }
      ]
    }
  ]
}